{
 "cells": [
  {
   "cell_type": "code",
   "execution_count": 1,
   "id": "93703618",
   "metadata": {},
   "outputs": [
    {
     "name": "stdout",
     "output_type": "stream",
     "text": [
      "[1, 2, 3, 3.4, 5.5]\n",
      "<class 'list'>\n"
     ]
    }
   ],
   "source": [
    "a=[1,2,3,3.4,5.5]\n",
    "\n",
    "    \n",
    "print(a)\n",
    "print(type(a))"
   ]
  },
  {
   "cell_type": "code",
   "execution_count": 2,
   "id": "a8ab8779",
   "metadata": {},
   "outputs": [],
   "source": [
    "a.append(3.3)"
   ]
  },
  {
   "cell_type": "code",
   "execution_count": 3,
   "id": "1716b1dd",
   "metadata": {},
   "outputs": [
    {
     "name": "stdout",
     "output_type": "stream",
     "text": [
      "[1, 2, 3, 3.4, 5.5, 3.3]\n"
     ]
    }
   ],
   "source": [
    "print(a)"
   ]
  },
  {
   "cell_type": "code",
   "execution_count": 4,
   "id": "dd8fe66f",
   "metadata": {},
   "outputs": [
    {
     "data": {
      "text/plain": [
       "{'A': 6, 'B': 1, 'c': 3, 'd': 4, 'e': 5}"
      ]
     },
     "execution_count": 4,
     "metadata": {},
     "output_type": "execute_result"
    }
   ],
   "source": [
    "Dict={'A':6,\"B\":1,\"c\":3,'d':4,'e':5}\n",
    "Dict"
   ]
  },
  {
   "cell_type": "code",
   "execution_count": 5,
   "id": "58b6d3ab",
   "metadata": {},
   "outputs": [
    {
     "name": "stdout",
     "output_type": "stream",
     "text": [
      "dict_keys(['A', 'B', 'c', 'd', 'e'])\n"
     ]
    }
   ],
   "source": [
    "print(Dict.keys())"
   ]
  },
  {
   "cell_type": "code",
   "execution_count": 6,
   "id": "47fb4eea",
   "metadata": {},
   "outputs": [
    {
     "name": "stdout",
     "output_type": "stream",
     "text": [
      "Dict key is dict_values([6, 1, 3, 4, 5])\n",
      "Dict key is dict_values([6, 1, 3, 4, 5])\n",
      "Dict key is dict_values([6, 1, 3, 4, 5])\n",
      "Dict key is dict_values([6, 1, 3, 4, 5])\n",
      "Dict key is dict_values([6, 1, 3, 4, 5])\n"
     ]
    }
   ],
   "source": [
    "for i in range(5):\n",
    "    print(\"Dict key is\",Dict.values())"
   ]
  },
  {
   "cell_type": "code",
   "execution_count": 7,
   "id": "7e6415ae",
   "metadata": {},
   "outputs": [
    {
     "name": "stdout",
     "output_type": "stream",
     "text": [
      "hello\n",
      "python\n",
      "is\n",
      "for\n",
      "class\n"
     ]
    }
   ],
   "source": [
    "dict1={0:'hello',1:'python',2:'is',3:'for',4:'class'}\n",
    "for i in range(5):\n",
    "    print(dict1[i])"
   ]
  },
  {
   "cell_type": "code",
   "execution_count": 8,
   "id": "4ec27cde",
   "metadata": {},
   "outputs": [
    {
     "name": "stdout",
     "output_type": "stream",
     "text": [
      "480\n"
     ]
    }
   ],
   "source": [
    "a_list = [ 3, 4, 5 ,2,4]\n",
    "product = 1\n",
    "for i in a_list:\n",
    "    product = product * i\n",
    "\n",
    "\n",
    "\n",
    "print(product)"
   ]
  },
  {
   "cell_type": "code",
   "execution_count": 11,
   "id": "2740c550",
   "metadata": {},
   "outputs": [],
   "source": [
    "d=[3,11,6,7,8,4,2,1,5,9,12,19]\n"
   ]
  },
  {
   "cell_type": "code",
   "execution_count": 12,
   "id": "bd3fc38e",
   "metadata": {},
   "outputs": [],
   "source": [
    "def largest(d):\n",
    "      \n",
    "    for i in d:\n",
    "        i=max(d)\n",
    "           \n",
    "    return (i)"
   ]
  },
  {
   "cell_type": "code",
   "execution_count": 13,
   "id": "4b3dcfeb",
   "metadata": {},
   "outputs": [
    {
     "data": {
      "text/plain": [
       "19"
      ]
     },
     "execution_count": 13,
     "metadata": {},
     "output_type": "execute_result"
    }
   ],
   "source": [
    "d=[3,11,6,7,8,4,2,1,5,9,12,19]\n",
    "largest(d)"
   ]
  },
  {
   "cell_type": "code",
   "execution_count": 75,
   "id": "b3caadfe",
   "metadata": {},
   "outputs": [],
   "source": [
    "def smallest(d):\n",
    "      \n",
    "    for i in d:\n",
    "        i=min(d)\n",
    "           \n",
    "    return (i)"
   ]
  },
  {
   "cell_type": "code",
   "execution_count": 76,
   "id": "94a8e7fe",
   "metadata": {},
   "outputs": [
    {
     "data": {
      "text/plain": [
       "1"
      ]
     },
     "execution_count": 76,
     "metadata": {},
     "output_type": "execute_result"
    }
   ],
   "source": [
    "d=[3,11,6,7,8,4,2,1,5,9,12,19]\n",
    "smallest(d)"
   ]
  },
  {
   "cell_type": "code",
   "execution_count": 81,
   "id": "f1ac27b9",
   "metadata": {},
   "outputs": [
    {
     "name": "stdout",
     "output_type": "stream",
     "text": [
      "Largest element is:  19\n"
     ]
    }
   ],
   "source": [
    "a = [3,11,6,7,8,4,2,1,5,9,12,19]\n",
    "\n",
    "\n",
    "ln = a[0] if a else None\n",
    "\n",
    "\n",
    "for i in a:\n",
    "    if i>ln:\n",
    "        ln=i\n",
    "\n",
    "print(\"Largest element is: \",ln)"
   ]
  },
  {
   "cell_type": "code",
   "execution_count": 83,
   "id": "bf15e3ad",
   "metadata": {},
   "outputs": [
    {
     "name": "stdout",
     "output_type": "stream",
     "text": [
      "smallest element is:  3\n"
     ]
    }
   ],
   "source": [
    "a = [3,11,6,7,8,4,2,1,5,9,12,19]\n",
    "\n",
    "\n",
    "sm = a[0] if a else None\n",
    "\n",
    "\n",
    "for i in a:\n",
    "    if i<ln:\n",
    "        ln=i\n",
    "\n",
    "print(\"smallest element is: \",sm)"
   ]
  },
  {
   "cell_type": "code",
   "execution_count": 87,
   "id": "9c5c67b6",
   "metadata": {},
   "outputs": [
    {
     "name": "stdout",
     "output_type": "stream",
     "text": [
      "[117, 150, 96, 111, 103, 79, 178, 49, 3, 58, 115, 19, 0, 173, 137, 134, 197, 165, 108, 122, 72, 95, 175, 90, 98, 159, 7, 145, 194, 133, 66, 65, 188, 102, 43, 38, 149, 68, 119, 52, 120, 164, 163, 39, 54, 105, 140, 129, 84, 193, 195, 130, 55, 124, 75, 5, 27, 24, 180, 86, 190, 100, 2, 42, 174, 56, 36, 166, 199, 179, 82, 17, 170, 60, 154, 47, 112, 62, 89, 101]\n"
     ]
    }
   ],
   "source": [
    "import random\n",
    "d= random.sample(range(0,200),80)\n",
    "print(d)"
   ]
  },
  {
   "cell_type": "code",
   "execution_count": 99,
   "id": "6be9e5dd",
   "metadata": {},
   "outputs": [
    {
     "name": "stdout",
     "output_type": "stream",
     "text": [
      "[84, 76, 36, 144, 100, 27, 6, 55, 94, 149, 174, 111, 98, 166, 183, 43, 135, 88, 19, 21, 163, 39, 91, 24, 12, 160, 146, 49, 18, 17, 136, 20, 72, 37, 134, 2, 106, 139, 103, 32, 69, 118, 48, 14, 45, 182, 54, 176, 35, 132, 187, 121, 42, 138, 93, 77, 168, 148, 4, 150, 172, 71, 51, 81, 185, 128, 153, 117, 64, 65, 123, 143, 56, 53, 124, 196, 159, 66, 60, 186]\n",
      "smallest element is:  2\n"
     ]
    }
   ],
   "source": [
    "import random\n",
    "a= random.sample(range(0,200),80)\n",
    "print(a)\n",
    "\n",
    "sm = a[0] if a else None\n",
    "\n",
    "\n",
    "for i in a:\n",
    "    if i<sm:\n",
    "        sm=i\n",
    "\n",
    "print(\"smallest element is: \",sm)"
   ]
  },
  {
   "cell_type": "code",
   "execution_count": 95,
   "id": "d08896ca",
   "metadata": {},
   "outputs": [
    {
     "name": "stdout",
     "output_type": "stream",
     "text": [
      "[96, 87, 151, 99, 142, 56, 127, 68, 59, 54, 119, 179, 47, 109, 9, 126, 188, 71, 17, 128, 25, 160, 108, 155, 61, 112, 111, 190, 196, 131, 66, 74, 122, 118, 121, 12, 187, 28, 2, 130, 81, 21, 171, 22, 123, 67, 165, 34, 136, 19, 78, 145, 64, 186, 49, 125, 93, 79, 195, 11, 1, 72, 35, 95, 132, 178, 174, 14, 36, 153, 184, 182, 83, 154, 167, 27, 133, 176, 46, 143]\n",
      "Largest element is:  196\n"
     ]
    }
   ],
   "source": [
    "import random\n",
    "a= random.sample(range(0,200),80)\n",
    "print(a)\n",
    "\n",
    "ln = a[0] if a else None\n",
    "\n",
    "\n",
    "for i in a:\n",
    "    if i>ln:\n",
    "        ln=i\n",
    "\n",
    "print(\"Largest element is: \",ln)"
   ]
  },
  {
   "cell_type": "code",
   "execution_count": 101,
   "id": "e8436bf0",
   "metadata": {},
   "outputs": [
    {
     "name": "stdout",
     "output_type": "stream",
     "text": [
      "0\n",
      "1\n",
      "2\n",
      "3\n",
      "4\n",
      "5\n",
      "6\n",
      "7\n",
      "8\n",
      "9\n",
      "10\n"
     ]
    }
   ],
   "source": [
    "for i in range(0,11):\n",
    "    print(i)"
   ]
  },
  {
   "cell_type": "code",
   "execution_count": null,
   "id": "29dfbd46",
   "metadata": {},
   "outputs": [],
   "source": []
  },
  {
   "cell_type": "code",
   "execution_count": null,
   "id": "63828ef5",
   "metadata": {},
   "outputs": [],
   "source": []
  },
  {
   "cell_type": "code",
   "execution_count": null,
   "id": "de2fc417",
   "metadata": {},
   "outputs": [],
   "source": []
  }
 ],
 "metadata": {
  "kernelspec": {
   "display_name": "Python 3",
   "language": "python",
   "name": "python3"
  },
  "language_info": {
   "codemirror_mode": {
    "name": "ipython",
    "version": 3
   },
   "file_extension": ".py",
   "mimetype": "text/x-python",
   "name": "python",
   "nbconvert_exporter": "python",
   "pygments_lexer": "ipython3",
   "version": "3.8.8"
  }
 },
 "nbformat": 4,
 "nbformat_minor": 5
}
