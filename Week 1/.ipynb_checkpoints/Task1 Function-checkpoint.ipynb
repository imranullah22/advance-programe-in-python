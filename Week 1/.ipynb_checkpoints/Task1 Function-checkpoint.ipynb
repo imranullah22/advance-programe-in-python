{
 "cells": [
  {
   "cell_type": "code",
   "execution_count": 7,
   "id": "2f202941",
   "metadata": {},
   "outputs": [],
   "source": [
    "def Calculation(v1,v2):\n",
    "    val1=v1\n",
    "    val2=v2\n",
    "    addition=val1+val2\n",
    "    multiplication=val1*val2\n",
    "    subtraction=val1-val2\n",
    "    division=val1/val2\n",
    "    mod=val1%val2\n",
    "    print(val1,\"+\",val2,\"=\",addition)\n",
    "    print(val1,\"x\",val2,\"=\",multiplication)\n",
    "    print(val1,\"-\",val2,\"=\",subtraction)\n",
    "    print(val1,\"/\",val2,\"=\",division)\n",
    "    print(val1,\"%\",val2,\"=\",mod)"
   ]
  },
  {
   "cell_type": "code",
   "execution_count": 8,
   "id": "49c440e2",
   "metadata": {},
   "outputs": [
    {
     "name": "stdout",
     "output_type": "stream",
     "text": [
      "8 + 4 = 12\n",
      "8 x 4 = 32\n",
      "8 - 4 = 4\n",
      "8 / 4 = 2.0\n",
      "8 % 4 = 0\n"
     ]
    }
   ],
   "source": [
    "Calculation(8,4)"
   ]
  },
  {
   "cell_type": "code",
   "execution_count": null,
   "id": "05f87e38",
   "metadata": {},
   "outputs": [],
   "source": []
  }
 ],
 "metadata": {
  "kernelspec": {
   "display_name": "Python 3",
   "language": "python",
   "name": "python3"
  },
  "language_info": {
   "codemirror_mode": {
    "name": "ipython",
    "version": 3
   },
   "file_extension": ".py",
   "mimetype": "text/x-python",
   "name": "python",
   "nbconvert_exporter": "python",
   "pygments_lexer": "ipython3",
   "version": "3.8.8"
  }
 },
 "nbformat": 4,
 "nbformat_minor": 5
}
