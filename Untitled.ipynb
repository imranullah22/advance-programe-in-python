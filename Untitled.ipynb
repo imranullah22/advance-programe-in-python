{
 "cells": [
  {
   "cell_type": "code",
   "execution_count": 4,
   "id": "surprised-opportunity",
   "metadata": {},
   "outputs": [],
   "source": [
    "\n",
    "def Fibonacci(n):\n",
    "    x=0; y=1;\n",
    "    print(x)\n",
    "    print(y)\n",
    "    for z in range(y,n):\n",
    "        z=x+y\n",
    "        x=y\n",
    "        y=z\n",
    "        print(z)\n",
    "\n",
    "\n",
    "\n"
   ]
  },
  {
   "cell_type": "code",
   "execution_count": 5,
   "id": "proud-spirituality",
   "metadata": {},
   "outputs": [
    {
     "name": "stdout",
     "output_type": "stream",
     "text": [
      "0\n",
      "1\n",
      "1\n",
      "2\n",
      "3\n",
      "5\n",
      "8\n",
      "13\n",
      "21\n",
      "34\n",
      "55\n"
     ]
    }
   ],
   "source": [
    "Fibonacci(10)"
   ]
  },
  {
   "cell_type": "code",
   "execution_count": 6,
   "id": "liable-graduation",
   "metadata": {},
   "outputs": [],
   "source": [
    "def recur_fibo(n):\n",
    "   if n <= 1:\n",
    "       return n\n",
    "   else:\n",
    "       return(recur_fibo(n-1) + recur_fibo(n-2))"
   ]
  },
  {
   "cell_type": "code",
   "execution_count": 7,
   "id": "ultimate-student",
   "metadata": {},
   "outputs": [
    {
     "name": "stdout",
     "output_type": "stream",
     "text": [
      "55\n"
     ]
    }
   ],
   "source": []
  },
  {
   "cell_type": "code",
   "execution_count": 9,
   "id": "completed-promise",
   "metadata": {},
   "outputs": [
    {
     "name": "stdout",
     "output_type": "stream",
     "text": [
      "0\n",
      "1\n",
      "1\n",
      "2\n",
      "3\n",
      "5\n",
      "8\n",
      "13\n",
      "21\n",
      "34\n",
      "55\n"
     ]
    }
   ],
   "source": [
    "for i in range(11):\n",
    "       print(recur_fibo(i))"
   ]
  },
  {
   "cell_type": "code",
   "execution_count": 18,
   "id": "fatty-astrology",
   "metadata": {},
   "outputs": [],
   "source": [
    "dic={\"Moday\": \"practice\", \"Tuesday\": \"practice\", \"Wednesday\": \"motivational lecture\", \"Thursday\":\"course Curriculam\", \"Friday\": \"video Lecutre\", \"saturday\":\"Practice programming\", \"Sunday\":\"Rest\" }"
   ]
  },
  {
   "cell_type": "code",
   "execution_count": 15,
   "id": "frozen-comedy",
   "metadata": {},
   "outputs": [
    {
     "name": "stdout",
     "output_type": "stream",
     "text": [
      "{1: 'practice', 'Thursday': 'course Curriculam', 'Friday': 'video Lecutre', 'saturday': 'Practice programming', 'Sunday': 'Rest'}\n",
      "<class 'dict'>\n"
     ]
    }
   ],
   "source": [
    "print(dic)\n",
    "print(type(dic))"
   ]
  },
  {
   "cell_type": "code",
   "execution_count": 19,
   "id": "hearing-requirement",
   "metadata": {},
   "outputs": [
    {
     "name": "stdout",
     "output_type": "stream",
     "text": [
      "video Lecutre\n"
     ]
    }
   ],
   "source": [
    "print(dic[\"Friday\"])"
   ]
  },
  {
   "cell_type": "code",
   "execution_count": 21,
   "id": "legendary-history",
   "metadata": {},
   "outputs": [],
   "source": [
    "dic.update({\"Friday\": \"video lecture and success story\"})"
   ]
  },
  {
   "cell_type": "code",
   "execution_count": 22,
   "id": "promotional-desktop",
   "metadata": {},
   "outputs": [
    {
     "name": "stdout",
     "output_type": "stream",
     "text": [
      "{'Moday': 'practice', 'Tuesday': 'practice', 'Wednesday': 'motivational lecture', 'Thursday': 'course Curriculam', 'Friday': 'video lecture and success story', 'saturday': 'Practice programming', 'Sunday': 'Rest'}\n"
     ]
    }
   ],
   "source": [
    "print(dic)"
   ]
  },
  {
   "cell_type": "code",
   "execution_count": 24,
   "id": "governmental-corruption",
   "metadata": {},
   "outputs": [
    {
     "data": {
      "text/plain": [
       "'video lecture and success story'"
      ]
     },
     "execution_count": 24,
     "metadata": {},
     "output_type": "execute_result"
    }
   ],
   "source": [
    "dic.pop(\"Friday\")"
   ]
  },
  {
   "cell_type": "code",
   "execution_count": 25,
   "id": "oriented-degree",
   "metadata": {},
   "outputs": [
    {
     "name": "stdout",
     "output_type": "stream",
     "text": [
      "{'Moday': 'practice', 'Tuesday': 'practice', 'Wednesday': 'motivational lecture', 'Thursday': 'course Curriculam', 'saturday': 'Practice programming', 'Sunday': 'Rest'}\n"
     ]
    }
   ],
   "source": [
    "print(dic)"
   ]
  },
  {
   "cell_type": "code",
   "execution_count": 26,
   "id": "emerging-regard",
   "metadata": {},
   "outputs": [
    {
     "name": "stdout",
     "output_type": "stream",
     "text": [
      "dict_values(['practice', 'practice', 'motivational lecture', 'course Curriculam', 'Practice programming', 'Rest'])\n"
     ]
    }
   ],
   "source": [
    "print(dic.values())"
   ]
  },
  {
   "cell_type": "code",
   "execution_count": 27,
   "id": "streaming-wichita",
   "metadata": {},
   "outputs": [
    {
     "name": "stdout",
     "output_type": "stream",
     "text": [
      "dict_keys(['Moday', 'Tuesday', 'Wednesday', 'Thursday', 'saturday', 'Sunday'])\n"
     ]
    }
   ],
   "source": [
    "print(dic.keys())"
   ]
  },
  {
   "cell_type": "code",
   "execution_count": 28,
   "id": "three-hacker",
   "metadata": {},
   "outputs": [],
   "source": [
    "x=set([1,2,3])"
   ]
  },
  {
   "cell_type": "code",
   "execution_count": 29,
   "id": "molecular-agency",
   "metadata": {},
   "outputs": [
    {
     "name": "stdout",
     "output_type": "stream",
     "text": [
      "<class 'set'>\n"
     ]
    }
   ],
   "source": [
    "print(type(x))"
   ]
  },
  {
   "cell_type": "code",
   "execution_count": 30,
   "id": "affected-stocks",
   "metadata": {},
   "outputs": [
    {
     "name": "stdout",
     "output_type": "stream",
     "text": [
      "{1, 2, 3}\n"
     ]
    }
   ],
   "source": [
    "print(x)"
   ]
  },
  {
   "cell_type": "code",
   "execution_count": null,
   "id": "fixed-fields",
   "metadata": {},
   "outputs": [],
   "source": []
  }
 ],
 "metadata": {
  "kernelspec": {
   "display_name": "Python 3",
   "language": "python",
   "name": "python3"
  },
  "language_info": {
   "codemirror_mode": {
    "name": "ipython",
    "version": 3
   },
   "file_extension": ".py",
   "mimetype": "text/x-python",
   "name": "python",
   "nbconvert_exporter": "python",
   "pygments_lexer": "ipython3",
   "version": "3.8.5"
  }
 },
 "nbformat": 4,
 "nbformat_minor": 5
}
