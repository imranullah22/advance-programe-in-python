{
 "cells": [
  {
   "cell_type": "markdown",
   "id": "0dddf01c",
   "metadata": {
    "tags": []
   },
   "source": [
    "## Import multiple libraries "
   ]
  },
  {
   "cell_type": "markdown",
   "id": "556f0266-0ae3-417c-85ab-4aa12a614846",
   "metadata": {},
   "source": [
    "project  revies on amazone"
   ]
  },
  {
   "cell_type": "code",
   "execution_count": 1,
   "id": "99773dd1",
   "metadata": {
    "tags": []
   },
   "outputs": [],
   "source": [
    "import math\n",
    "import numpy as np \n",
    "import re\n",
    "from nltk.corpus import stopwords\n",
    "from nltk.probability import FreqDist\n",
    "from nltk.tokenize import sent_tokenize, RegexpTokenizer\n",
    "from sklearn.feature_extraction.text import CountVectorizer\n",
    "from sklearn.naive_bayes import MultinomialNB\n",
    "from sklearn import metrics\n",
    "from sklearn.feature_extraction.text import TfidfVectorizer, HashingVectorizer\n",
    "import pandas as pd\n",
    "import pandera as pa\n",
    "from numpy import mean\n",
    "from sklearn.model_selection import KFold\n",
    "from sklearn.tree import DecisionTreeClassifier\n",
    "import seaborn as sns\n",
    "%matplotlib inline\n",
    "from sklearn.svm import LinearSVC\n",
    "import random\n",
    "import matplotlib.pyplot as plt\n",
    "from sklearn.linear_model import LogisticRegression\n",
    "from sklearn import metrics\n",
    "from sklearn.cluster import KMeans\n",
    "import plotly.express as px\n",
    "from sklearn.ensemble import RandomForestClassifier\n",
    "from sklearn.metrics import confusion_matrix, accuracy_score, roc_auc_score, roc_curve\n",
    "from sklearn.metrics import classification_report, confusion_matrix, accuracy_score\n",
    "from sklearn.model_selection import train_test_split\n",
    "from sklearn import preprocessing\n",
    "from sklearn.preprocessing import StandardScaler\n",
    "from sklearn.preprocessing import MinMaxScaler\n",
    "from sklearn.metrics import roc_curve\n",
    "from sklearn.metrics import roc_curve, roc_auc_score\n",
    "import warnings\n",
    "warnings.filterwarnings(\"ignore\")"
   ]
  },
  {
   "cell_type": "markdown",
   "id": "5d04ed0d",
   "metadata": {
    "tags": []
   },
   "source": [
    "## Import current Data"
   ]
  },
  {
   "cell_type": "code",
   "execution_count": 3,
   "id": "f7b0e369",
   "metadata": {},
   "outputs": [],
   "source": [
    "Df = pd.read_csv('Amazon_reviews.csv')"
   ]
  },
  {
   "cell_type": "code",
   "execution_count": 4,
   "id": "e6c3f2af",
   "metadata": {},
   "outputs": [
    {
     "data": {
      "text/html": [
       "<div>\n",
       "<style scoped>\n",
       "    .dataframe tbody tr th:only-of-type {\n",
       "        vertical-align: middle;\n",
       "    }\n",
       "\n",
       "    .dataframe tbody tr th {\n",
       "        vertical-align: top;\n",
       "    }\n",
       "\n",
       "    .dataframe thead th {\n",
       "        text-align: right;\n",
       "    }\n",
       "</style>\n",
       "<table border=\"1\" class=\"dataframe\">\n",
       "  <thead>\n",
       "    <tr style=\"text-align: right;\">\n",
       "      <th></th>\n",
       "      <th>Id</th>\n",
       "      <th>ProductId</th>\n",
       "      <th>Title</th>\n",
       "      <th>Price</th>\n",
       "      <th>UserId</th>\n",
       "      <th>ProfileName</th>\n",
       "      <th>Helpfulness</th>\n",
       "      <th>Score</th>\n",
       "      <th>Time</th>\n",
       "      <th>Summary</th>\n",
       "      <th>Text</th>\n",
       "    </tr>\n",
       "  </thead>\n",
       "  <tbody>\n",
       "    <tr>\n",
       "      <th>0</th>\n",
       "      <td>0</td>\n",
       "      <td>B0009PK7KO</td>\n",
       "      <td>Caligarius Women's Acheta Pump,Black Calf,6 M</td>\n",
       "      <td>unknown</td>\n",
       "      <td>A12O8IHB65BC1S</td>\n",
       "      <td>Fifi</td>\n",
       "      <td>2/2</td>\n",
       "      <td>4.0</td>\n",
       "      <td>1169769600</td>\n",
       "      <td>Beautiful basic pump...</td>\n",
       "      <td>... but not enough sizes or colors. Fits true...</td>\n",
       "    </tr>\n",
       "    <tr>\n",
       "      <th>1</th>\n",
       "      <td>1</td>\n",
       "      <td>B0007MCVQ2</td>\n",
       "      <td>Clarks Men's Charter Slip-On, Brown Oily Leat...</td>\n",
       "      <td>unknown</td>\n",
       "      <td>A3363OQWT5L3FT</td>\n",
       "      <td>Marilyn M. Turner \"whitbrook\"</td>\n",
       "      <td>0/0</td>\n",
       "      <td>2.0</td>\n",
       "      <td>1168387200</td>\n",
       "      <td>Didn't live up to expectations.</td>\n",
       "      <td>I ordered these shoes to replace the previous...</td>\n",
       "    </tr>\n",
       "    <tr>\n",
       "      <th>2</th>\n",
       "      <td>2</td>\n",
       "      <td>B0007MCVQ2</td>\n",
       "      <td>Clarks Men's Charter Slip-On, Brown Oily Leat...</td>\n",
       "      <td>unknown</td>\n",
       "      <td>A1BHUGKLYW6H7V</td>\n",
       "      <td>P. Lecuyer</td>\n",
       "      <td>0/0</td>\n",
       "      <td>5.0</td>\n",
       "      <td>1127088000</td>\n",
       "      <td>Love my Clarks!</td>\n",
       "      <td>Like all Clarks, these guys didn't disappoint...</td>\n",
       "    </tr>\n",
       "    <tr>\n",
       "      <th>3</th>\n",
       "      <td>3</td>\n",
       "      <td>B0002M1FPK</td>\n",
       "      <td>Lightweight Slides, Champagne, 8.5 W</td>\n",
       "      <td>unknown</td>\n",
       "      <td>AITX28WR0L5Y6</td>\n",
       "      <td>Carol Popick \"Chet\"</td>\n",
       "      <td>0/0</td>\n",
       "      <td>5.0</td>\n",
       "      <td>1245715200</td>\n",
       "      <td>ANNIE PEANUT</td>\n",
       "      <td>i HAVE PURCHASED ANNIE PEANUT BEFORE AND THEY...</td>\n",
       "    </tr>\n",
       "    <tr>\n",
       "      <th>4</th>\n",
       "      <td>4</td>\n",
       "      <td>B0002M1FPK</td>\n",
       "      <td>Lightweight Slides, Champagne, 8.5 W</td>\n",
       "      <td>unknown</td>\n",
       "      <td>A1ZPFKIGT4I69S</td>\n",
       "      <td>KJ Brassy \"KJ Brassy\"</td>\n",
       "      <td>0/0</td>\n",
       "      <td>5.0</td>\n",
       "      <td>1168300800</td>\n",
       "      <td>Annie Peanut Shoes</td>\n",
       "      <td>These are my favorite shoes of all time. I fi...</td>\n",
       "    </tr>\n",
       "  </tbody>\n",
       "</table>\n",
       "</div>"
      ],
      "text/plain": [
       "   Id    ProductId                                              Title  \\\n",
       "0   0   B0009PK7KO      Caligarius Women's Acheta Pump,Black Calf,6 M   \n",
       "1   1   B0007MCVQ2   Clarks Men's Charter Slip-On, Brown Oily Leat...   \n",
       "2   2   B0007MCVQ2   Clarks Men's Charter Slip-On, Brown Oily Leat...   \n",
       "3   3   B0002M1FPK               Lightweight Slides, Champagne, 8.5 W   \n",
       "4   4   B0002M1FPK               Lightweight Slides, Champagne, 8.5 W   \n",
       "\n",
       "      Price           UserId                     ProfileName Helpfulness  \\\n",
       "0   unknown   A12O8IHB65BC1S                            Fifi         2/2   \n",
       "1   unknown   A3363OQWT5L3FT   Marilyn M. Turner \"whitbrook\"         0/0   \n",
       "2   unknown   A1BHUGKLYW6H7V                      P. Lecuyer         0/0   \n",
       "3   unknown    AITX28WR0L5Y6             Carol Popick \"Chet\"         0/0   \n",
       "4   unknown   A1ZPFKIGT4I69S           KJ Brassy \"KJ Brassy\"         0/0   \n",
       "\n",
       "   Score        Time                           Summary  \\\n",
       "0    4.0  1169769600           Beautiful basic pump...   \n",
       "1    2.0  1168387200   Didn't live up to expectations.   \n",
       "2    5.0  1127088000                   Love my Clarks!   \n",
       "3    5.0  1245715200                      ANNIE PEANUT   \n",
       "4    5.0  1168300800                Annie Peanut Shoes   \n",
       "\n",
       "                                                Text  \n",
       "0   ... but not enough sizes or colors. Fits true...  \n",
       "1   I ordered these shoes to replace the previous...  \n",
       "2   Like all Clarks, these guys didn't disappoint...  \n",
       "3   i HAVE PURCHASED ANNIE PEANUT BEFORE AND THEY...  \n",
       "4   These are my favorite shoes of all time. I fi...  "
      ]
     },
     "execution_count": 4,
     "metadata": {},
     "output_type": "execute_result"
    }
   ],
   "source": [
    "Df.head()"
   ]
  },
  {
   "cell_type": "markdown",
   "id": "a7ce61ea",
   "metadata": {},
   "source": [
    "## Check Shape"
   ]
  },
  {
   "cell_type": "code",
   "execution_count": 4,
   "id": "b087ae9b",
   "metadata": {},
   "outputs": [
    {
     "data": {
      "text/plain": [
       "(389877, 11)"
      ]
     },
     "execution_count": 4,
     "metadata": {},
     "output_type": "execute_result"
    }
   ],
   "source": [
    "Df.shape"
   ]
  },
  {
   "cell_type": "markdown",
   "id": "7ac4f06f",
   "metadata": {},
   "source": [
    "## Check Null Values"
   ]
  },
  {
   "cell_type": "code",
   "execution_count": 5,
   "id": "c437c91b",
   "metadata": {},
   "outputs": [
    {
     "data": {
      "text/plain": [
       "Id             0\n",
       "ProductId      0\n",
       "Title          0\n",
       "Price          0\n",
       "UserId         0\n",
       "ProfileName    0\n",
       "Helpfulness    0\n",
       "Score          0\n",
       "Time           0\n",
       "Summary        0\n",
       "Text           0\n",
       "dtype: int64"
      ]
     },
     "execution_count": 5,
     "metadata": {},
     "output_type": "execute_result"
    }
   ],
   "source": [
    "Df.isna().sum()"
   ]
  },
  {
   "cell_type": "markdown",
   "id": "16f8d9fb",
   "metadata": {},
   "source": [
    "## Check Info Of Data"
   ]
  },
  {
   "cell_type": "code",
   "execution_count": 6,
   "id": "f6e580c0",
   "metadata": {},
   "outputs": [
    {
     "name": "stdout",
     "output_type": "stream",
     "text": [
      "<class 'pandas.core.frame.DataFrame'>\n",
      "RangeIndex: 389877 entries, 0 to 389876\n",
      "Data columns (total 11 columns):\n",
      " #   Column       Non-Null Count   Dtype  \n",
      "---  ------       --------------   -----  \n",
      " 0   Id           389877 non-null  int64  \n",
      " 1   ProductId    389877 non-null  object \n",
      " 2   Title        389877 non-null  object \n",
      " 3   Price        389877 non-null  object \n",
      " 4   UserId       389877 non-null  object \n",
      " 5   ProfileName  389877 non-null  object \n",
      " 6   Helpfulness  389877 non-null  object \n",
      " 7   Score        389877 non-null  float64\n",
      " 8   Time         389877 non-null  int64  \n",
      " 9   Summary      389877 non-null  object \n",
      " 10  Text         389877 non-null  object \n",
      "dtypes: float64(1), int64(2), object(8)\n",
      "memory usage: 32.7+ MB\n"
     ]
    }
   ],
   "source": [
    "Df.info()"
   ]
  },
  {
   "cell_type": "markdown",
   "id": "21606955",
   "metadata": {},
   "source": [
    "## Remove Extra Columns"
   ]
  },
  {
   "cell_type": "code",
   "execution_count": 7,
   "id": "feb76ccd",
   "metadata": {},
   "outputs": [],
   "source": [
    "Df.drop(['Id','ProductId', 'Title', 'Price', 'UserId', 'ProfileName', 'Helpfulness', 'Time','Score', 'Summary'],axis=1,inplace=True)"
   ]
  },
  {
   "cell_type": "code",
   "execution_count": 8,
   "id": "0c3d6917",
   "metadata": {},
   "outputs": [],
   "source": [
    "df = Df"
   ]
  },
  {
   "cell_type": "markdown",
   "id": "1484dee1",
   "metadata": {},
   "source": [
    "## Work on only text column because i will find amazon reviews"
   ]
  },
  {
   "cell_type": "code",
   "execution_count": 9,
   "id": "f32650a2",
   "metadata": {},
   "outputs": [
    {
     "data": {
      "text/html": [
       "<div>\n",
       "<style scoped>\n",
       "    .dataframe tbody tr th:only-of-type {\n",
       "        vertical-align: middle;\n",
       "    }\n",
       "\n",
       "    .dataframe tbody tr th {\n",
       "        vertical-align: top;\n",
       "    }\n",
       "\n",
       "    .dataframe thead th {\n",
       "        text-align: right;\n",
       "    }\n",
       "</style>\n",
       "<table border=\"1\" class=\"dataframe\">\n",
       "  <thead>\n",
       "    <tr style=\"text-align: right;\">\n",
       "      <th></th>\n",
       "      <th>Text</th>\n",
       "    </tr>\n",
       "  </thead>\n",
       "  <tbody>\n",
       "    <tr>\n",
       "      <th>0</th>\n",
       "      <td>... but not enough sizes or colors. Fits true...</td>\n",
       "    </tr>\n",
       "    <tr>\n",
       "      <th>1</th>\n",
       "      <td>I ordered these shoes to replace the previous...</td>\n",
       "    </tr>\n",
       "    <tr>\n",
       "      <th>2</th>\n",
       "      <td>Like all Clarks, these guys didn't disappoint...</td>\n",
       "    </tr>\n",
       "    <tr>\n",
       "      <th>3</th>\n",
       "      <td>i HAVE PURCHASED ANNIE PEANUT BEFORE AND THEY...</td>\n",
       "    </tr>\n",
       "    <tr>\n",
       "      <th>4</th>\n",
       "      <td>These are my favorite shoes of all time. I fi...</td>\n",
       "    </tr>\n",
       "    <tr>\n",
       "      <th>...</th>\n",
       "      <td>...</td>\n",
       "    </tr>\n",
       "    <tr>\n",
       "      <th>389872</th>\n",
       "      <td>These shoes are a whole size smaller than mar...</td>\n",
       "    </tr>\n",
       "    <tr>\n",
       "      <th>389873</th>\n",
       "      <td>i HAVE PURCHASED ANNIE PEANUT BEFORE AND THEY...</td>\n",
       "    </tr>\n",
       "    <tr>\n",
       "      <th>389874</th>\n",
       "      <td>These are my favorite shoes of all time. I fi...</td>\n",
       "    </tr>\n",
       "    <tr>\n",
       "      <th>389875</th>\n",
       "      <td>Don't usually purchase shoes without trying t...</td>\n",
       "    </tr>\n",
       "    <tr>\n",
       "      <th>389876</th>\n",
       "      <td>i am completely satisfied in the manner my or...</td>\n",
       "    </tr>\n",
       "  </tbody>\n",
       "</table>\n",
       "<p>389877 rows × 1 columns</p>\n",
       "</div>"
      ],
      "text/plain": [
       "                                                     Text\n",
       "0        ... but not enough sizes or colors. Fits true...\n",
       "1        I ordered these shoes to replace the previous...\n",
       "2        Like all Clarks, these guys didn't disappoint...\n",
       "3        i HAVE PURCHASED ANNIE PEANUT BEFORE AND THEY...\n",
       "4        These are my favorite shoes of all time. I fi...\n",
       "...                                                   ...\n",
       "389872   These shoes are a whole size smaller than mar...\n",
       "389873   i HAVE PURCHASED ANNIE PEANUT BEFORE AND THEY...\n",
       "389874   These are my favorite shoes of all time. I fi...\n",
       "389875   Don't usually purchase shoes without trying t...\n",
       "389876   i am completely satisfied in the manner my or...\n",
       "\n",
       "[389877 rows x 1 columns]"
      ]
     },
     "execution_count": 9,
     "metadata": {},
     "output_type": "execute_result"
    }
   ],
   "source": [
    "df"
   ]
  },
  {
   "cell_type": "markdown",
   "id": "83b820ed",
   "metadata": {},
   "source": [
    "## I will find the labels for text so i will use Vader sentiment analysis to create labels.."
   ]
  },
  {
   "cell_type": "code",
   "execution_count": 10,
   "id": "54c80387",
   "metadata": {},
   "outputs": [
    {
     "name": "stderr",
     "output_type": "stream",
     "text": [
      "[nltk_data] Downloading package vader_lexicon to\n",
      "[nltk_data]     C:\\Users\\wajid\\AppData\\Roaming\\nltk_data...\n",
      "[nltk_data]   Package vader_lexicon is already up-to-date!\n",
      "[nltk_data] Downloading package stopwords to\n",
      "[nltk_data]     C:\\Users\\wajid\\AppData\\Roaming\\nltk_data...\n",
      "[nltk_data]   Package stopwords is already up-to-date!\n",
      "[nltk_data] Downloading package punkt to\n",
      "[nltk_data]     C:\\Users\\wajid\\AppData\\Roaming\\nltk_data...\n",
      "[nltk_data]   Package punkt is already up-to-date!\n"
     ]
    },
    {
     "data": {
      "text/plain": [
       "True"
      ]
     },
     "execution_count": 10,
     "metadata": {},
     "output_type": "execute_result"
    }
   ],
   "source": [
    "import nltk\n",
    "nltk.download('vader_lexicon')\n",
    "nltk.download('stopwords')\n",
    "nltk.download('punkt')"
   ]
  },
  {
   "cell_type": "code",
   "execution_count": 11,
   "id": "535c1817",
   "metadata": {},
   "outputs": [],
   "source": [
    "df['Text'] = df['Text'].apply(lambda txt: txt.lower())"
   ]
  },
  {
   "cell_type": "code",
   "execution_count": 12,
   "id": "a5fae18a",
   "metadata": {},
   "outputs": [],
   "source": [
    "stop_words=stopwords.words('english')\n",
    "df['Text'] = df['Text'].apply(lambda txt: ' '.join([word for word in txt.split() if word not in stop_words]))"
   ]
  },
  {
   "cell_type": "code",
   "execution_count": 13,
   "id": "98d866f5",
   "metadata": {},
   "outputs": [],
   "source": [
    "df['Text'] = df['Text'].apply(lambda txt: sent_tokenize(txt))"
   ]
  },
  {
   "cell_type": "code",
   "execution_count": 14,
   "id": "6b5320e9",
   "metadata": {},
   "outputs": [],
   "source": [
    "df['Text'] = df['Text'].apply(lambda txt: ' '.join(txt))"
   ]
  },
  {
   "cell_type": "code",
   "execution_count": 15,
   "id": "821d95ee",
   "metadata": {},
   "outputs": [],
   "source": [
    "from nltk.sentiment.vader import SentimentIntensityAnalyzer\n",
    "sid = SentimentIntensityAnalyzer()"
   ]
  },
  {
   "cell_type": "code",
   "execution_count": 16,
   "id": "d4792b33",
   "metadata": {},
   "outputs": [],
   "source": [
    "text = df['Text']"
   ]
  },
  {
   "cell_type": "code",
   "execution_count": 17,
   "id": "4ce797c0",
   "metadata": {},
   "outputs": [
    {
     "data": {
      "text/plain": [
       "0         ... enough sizes colors. fits true size size 8...\n",
       "1         ordered shoes replace previous pair ripped apa...\n",
       "2         like clarks, guys disappoint. fit great look e...\n",
       "3         purchased annie peanut comfortable shoes own. ...\n",
       "4         favorite shoes time. first bought denim, wore ...\n",
       "                                ...                        \n",
       "389872    shoes whole size smaller marked. wear 7 7 woul...\n",
       "389873    purchased annie peanut comfortable shoes own. ...\n",
       "389874    favorite shoes time. first bought denim, wore ...\n",
       "389875    usually purchase shoes without trying first st...\n",
       "389876    completely satisfied manner order delivered.th...\n",
       "Name: Text, Length: 389877, dtype: object"
      ]
     },
     "execution_count": 17,
     "metadata": {},
     "output_type": "execute_result"
    }
   ],
   "source": [
    "text"
   ]
  },
  {
   "cell_type": "code",
   "execution_count": 18,
   "id": "8706f19a",
   "metadata": {},
   "outputs": [],
   "source": [
    "df['labels'] = df['Text'].apply(lambda txt: sid.polarity_scores(txt))"
   ]
  },
  {
   "cell_type": "code",
   "execution_count": 19,
   "id": "b4a037c4",
   "metadata": {},
   "outputs": [
    {
     "data": {
      "text/html": [
       "<div>\n",
       "<style scoped>\n",
       "    .dataframe tbody tr th:only-of-type {\n",
       "        vertical-align: middle;\n",
       "    }\n",
       "\n",
       "    .dataframe tbody tr th {\n",
       "        vertical-align: top;\n",
       "    }\n",
       "\n",
       "    .dataframe thead th {\n",
       "        text-align: right;\n",
       "    }\n",
       "</style>\n",
       "<table border=\"1\" class=\"dataframe\">\n",
       "  <thead>\n",
       "    <tr style=\"text-align: right;\">\n",
       "      <th></th>\n",
       "      <th>Text</th>\n",
       "      <th>labels</th>\n",
       "    </tr>\n",
       "  </thead>\n",
       "  <tbody>\n",
       "    <tr>\n",
       "      <th>0</th>\n",
       "      <td>... enough sizes colors. fits true size size 8...</td>\n",
       "      <td>{'neg': 0.0, 'neu': 0.609, 'pos': 0.391, 'comp...</td>\n",
       "    </tr>\n",
       "    <tr>\n",
       "      <th>1</th>\n",
       "      <td>ordered shoes replace previous pair ripped apa...</td>\n",
       "      <td>{'neg': 0.077, 'neu': 0.797, 'pos': 0.126, 'co...</td>\n",
       "    </tr>\n",
       "    <tr>\n",
       "      <th>2</th>\n",
       "      <td>like clarks, guys disappoint. fit great look e...</td>\n",
       "      <td>{'neg': 0.095, 'neu': 0.317, 'pos': 0.588, 'co...</td>\n",
       "    </tr>\n",
       "    <tr>\n",
       "      <th>3</th>\n",
       "      <td>purchased annie peanut comfortable shoes own. ...</td>\n",
       "      <td>{'neg': 0.0, 'neu': 0.637, 'pos': 0.363, 'comp...</td>\n",
       "    </tr>\n",
       "    <tr>\n",
       "      <th>4</th>\n",
       "      <td>favorite shoes time. first bought denim, wore ...</td>\n",
       "      <td>{'neg': 0.053, 'neu': 0.48, 'pos': 0.467, 'com...</td>\n",
       "    </tr>\n",
       "    <tr>\n",
       "      <th>...</th>\n",
       "      <td>...</td>\n",
       "      <td>...</td>\n",
       "    </tr>\n",
       "    <tr>\n",
       "      <th>389872</th>\n",
       "      <td>shoes whole size smaller marked. wear 7 7 woul...</td>\n",
       "      <td>{'neg': 0.0, 'neu': 0.808, 'pos': 0.192, 'comp...</td>\n",
       "    </tr>\n",
       "    <tr>\n",
       "      <th>389873</th>\n",
       "      <td>purchased annie peanut comfortable shoes own. ...</td>\n",
       "      <td>{'neg': 0.0, 'neu': 0.637, 'pos': 0.363, 'comp...</td>\n",
       "    </tr>\n",
       "    <tr>\n",
       "      <th>389874</th>\n",
       "      <td>favorite shoes time. first bought denim, wore ...</td>\n",
       "      <td>{'neg': 0.053, 'neu': 0.48, 'pos': 0.467, 'com...</td>\n",
       "    </tr>\n",
       "    <tr>\n",
       "      <th>389875</th>\n",
       "      <td>usually purchase shoes without trying first st...</td>\n",
       "      <td>{'neg': 0.0, 'neu': 0.694, 'pos': 0.306, 'comp...</td>\n",
       "    </tr>\n",
       "    <tr>\n",
       "      <th>389876</th>\n",
       "      <td>completely satisfied manner order delivered.th...</td>\n",
       "      <td>{'neg': 0.0, 'neu': 0.527, 'pos': 0.473, 'comp...</td>\n",
       "    </tr>\n",
       "  </tbody>\n",
       "</table>\n",
       "<p>389877 rows × 2 columns</p>\n",
       "</div>"
      ],
      "text/plain": [
       "                                                     Text  \\\n",
       "0       ... enough sizes colors. fits true size size 8...   \n",
       "1       ordered shoes replace previous pair ripped apa...   \n",
       "2       like clarks, guys disappoint. fit great look e...   \n",
       "3       purchased annie peanut comfortable shoes own. ...   \n",
       "4       favorite shoes time. first bought denim, wore ...   \n",
       "...                                                   ...   \n",
       "389872  shoes whole size smaller marked. wear 7 7 woul...   \n",
       "389873  purchased annie peanut comfortable shoes own. ...   \n",
       "389874  favorite shoes time. first bought denim, wore ...   \n",
       "389875  usually purchase shoes without trying first st...   \n",
       "389876  completely satisfied manner order delivered.th...   \n",
       "\n",
       "                                                   labels  \n",
       "0       {'neg': 0.0, 'neu': 0.609, 'pos': 0.391, 'comp...  \n",
       "1       {'neg': 0.077, 'neu': 0.797, 'pos': 0.126, 'co...  \n",
       "2       {'neg': 0.095, 'neu': 0.317, 'pos': 0.588, 'co...  \n",
       "3       {'neg': 0.0, 'neu': 0.637, 'pos': 0.363, 'comp...  \n",
       "4       {'neg': 0.053, 'neu': 0.48, 'pos': 0.467, 'com...  \n",
       "...                                                   ...  \n",
       "389872  {'neg': 0.0, 'neu': 0.808, 'pos': 0.192, 'comp...  \n",
       "389873  {'neg': 0.0, 'neu': 0.637, 'pos': 0.363, 'comp...  \n",
       "389874  {'neg': 0.053, 'neu': 0.48, 'pos': 0.467, 'com...  \n",
       "389875  {'neg': 0.0, 'neu': 0.694, 'pos': 0.306, 'comp...  \n",
       "389876  {'neg': 0.0, 'neu': 0.527, 'pos': 0.473, 'comp...  \n",
       "\n",
       "[389877 rows x 2 columns]"
      ]
     },
     "execution_count": 19,
     "metadata": {},
     "output_type": "execute_result"
    }
   ],
   "source": [
    "df"
   ]
  },
  {
   "cell_type": "code",
   "execution_count": 20,
   "id": "aa6da513",
   "metadata": {},
   "outputs": [],
   "source": [
    "df['negative'] = df['labels'].apply(lambda txt: txt['neg'])\n",
    "df['neutral'] = df['labels'].apply(lambda txt: txt['neu'])\n",
    "df['positive'] = df['labels'].apply(lambda txt: txt['pos'])\n",
    "df['compound'] = df['labels'].apply(lambda txt: txt['compound'])"
   ]
  },
  {
   "cell_type": "code",
   "execution_count": 21,
   "id": "0e2cdbbd",
   "metadata": {},
   "outputs": [
    {
     "data": {
      "text/html": [
       "<div>\n",
       "<style scoped>\n",
       "    .dataframe tbody tr th:only-of-type {\n",
       "        vertical-align: middle;\n",
       "    }\n",
       "\n",
       "    .dataframe tbody tr th {\n",
       "        vertical-align: top;\n",
       "    }\n",
       "\n",
       "    .dataframe thead th {\n",
       "        text-align: right;\n",
       "    }\n",
       "</style>\n",
       "<table border=\"1\" class=\"dataframe\">\n",
       "  <thead>\n",
       "    <tr style=\"text-align: right;\">\n",
       "      <th></th>\n",
       "      <th>Text</th>\n",
       "      <th>labels</th>\n",
       "      <th>negative</th>\n",
       "      <th>neutral</th>\n",
       "      <th>positive</th>\n",
       "      <th>compound</th>\n",
       "    </tr>\n",
       "  </thead>\n",
       "  <tbody>\n",
       "    <tr>\n",
       "      <th>0</th>\n",
       "      <td>... enough sizes colors. fits true size size 8...</td>\n",
       "      <td>{'neg': 0.0, 'neu': 0.609, 'pos': 0.391, 'comp...</td>\n",
       "      <td>0.000</td>\n",
       "      <td>0.609</td>\n",
       "      <td>0.391</td>\n",
       "      <td>0.8505</td>\n",
       "    </tr>\n",
       "    <tr>\n",
       "      <th>1</th>\n",
       "      <td>ordered shoes replace previous pair ripped apa...</td>\n",
       "      <td>{'neg': 0.077, 'neu': 0.797, 'pos': 0.126, 'co...</td>\n",
       "      <td>0.077</td>\n",
       "      <td>0.797</td>\n",
       "      <td>0.126</td>\n",
       "      <td>0.2023</td>\n",
       "    </tr>\n",
       "    <tr>\n",
       "      <th>2</th>\n",
       "      <td>like clarks, guys disappoint. fit great look e...</td>\n",
       "      <td>{'neg': 0.095, 'neu': 0.317, 'pos': 0.588, 'co...</td>\n",
       "      <td>0.095</td>\n",
       "      <td>0.317</td>\n",
       "      <td>0.588</td>\n",
       "      <td>0.9186</td>\n",
       "    </tr>\n",
       "    <tr>\n",
       "      <th>3</th>\n",
       "      <td>purchased annie peanut comfortable shoes own. ...</td>\n",
       "      <td>{'neg': 0.0, 'neu': 0.637, 'pos': 0.363, 'comp...</td>\n",
       "      <td>0.000</td>\n",
       "      <td>0.637</td>\n",
       "      <td>0.363</td>\n",
       "      <td>0.8442</td>\n",
       "    </tr>\n",
       "    <tr>\n",
       "      <th>4</th>\n",
       "      <td>favorite shoes time. first bought denim, wore ...</td>\n",
       "      <td>{'neg': 0.053, 'neu': 0.48, 'pos': 0.467, 'com...</td>\n",
       "      <td>0.053</td>\n",
       "      <td>0.480</td>\n",
       "      <td>0.467</td>\n",
       "      <td>0.9536</td>\n",
       "    </tr>\n",
       "    <tr>\n",
       "      <th>...</th>\n",
       "      <td>...</td>\n",
       "      <td>...</td>\n",
       "      <td>...</td>\n",
       "      <td>...</td>\n",
       "      <td>...</td>\n",
       "      <td>...</td>\n",
       "    </tr>\n",
       "    <tr>\n",
       "      <th>389872</th>\n",
       "      <td>shoes whole size smaller marked. wear 7 7 woul...</td>\n",
       "      <td>{'neg': 0.0, 'neu': 0.808, 'pos': 0.192, 'comp...</td>\n",
       "      <td>0.000</td>\n",
       "      <td>0.808</td>\n",
       "      <td>0.192</td>\n",
       "      <td>0.6900</td>\n",
       "    </tr>\n",
       "    <tr>\n",
       "      <th>389873</th>\n",
       "      <td>purchased annie peanut comfortable shoes own. ...</td>\n",
       "      <td>{'neg': 0.0, 'neu': 0.637, 'pos': 0.363, 'comp...</td>\n",
       "      <td>0.000</td>\n",
       "      <td>0.637</td>\n",
       "      <td>0.363</td>\n",
       "      <td>0.8442</td>\n",
       "    </tr>\n",
       "    <tr>\n",
       "      <th>389874</th>\n",
       "      <td>favorite shoes time. first bought denim, wore ...</td>\n",
       "      <td>{'neg': 0.053, 'neu': 0.48, 'pos': 0.467, 'com...</td>\n",
       "      <td>0.053</td>\n",
       "      <td>0.480</td>\n",
       "      <td>0.467</td>\n",
       "      <td>0.9536</td>\n",
       "    </tr>\n",
       "    <tr>\n",
       "      <th>389875</th>\n",
       "      <td>usually purchase shoes without trying first st...</td>\n",
       "      <td>{'neg': 0.0, 'neu': 0.694, 'pos': 0.306, 'comp...</td>\n",
       "      <td>0.000</td>\n",
       "      <td>0.694</td>\n",
       "      <td>0.306</td>\n",
       "      <td>0.9579</td>\n",
       "    </tr>\n",
       "    <tr>\n",
       "      <th>389876</th>\n",
       "      <td>completely satisfied manner order delivered.th...</td>\n",
       "      <td>{'neg': 0.0, 'neu': 0.527, 'pos': 0.473, 'comp...</td>\n",
       "      <td>0.000</td>\n",
       "      <td>0.527</td>\n",
       "      <td>0.473</td>\n",
       "      <td>0.8016</td>\n",
       "    </tr>\n",
       "  </tbody>\n",
       "</table>\n",
       "<p>389877 rows × 6 columns</p>\n",
       "</div>"
      ],
      "text/plain": [
       "                                                     Text  \\\n",
       "0       ... enough sizes colors. fits true size size 8...   \n",
       "1       ordered shoes replace previous pair ripped apa...   \n",
       "2       like clarks, guys disappoint. fit great look e...   \n",
       "3       purchased annie peanut comfortable shoes own. ...   \n",
       "4       favorite shoes time. first bought denim, wore ...   \n",
       "...                                                   ...   \n",
       "389872  shoes whole size smaller marked. wear 7 7 woul...   \n",
       "389873  purchased annie peanut comfortable shoes own. ...   \n",
       "389874  favorite shoes time. first bought denim, wore ...   \n",
       "389875  usually purchase shoes without trying first st...   \n",
       "389876  completely satisfied manner order delivered.th...   \n",
       "\n",
       "                                                   labels  negative  neutral  \\\n",
       "0       {'neg': 0.0, 'neu': 0.609, 'pos': 0.391, 'comp...     0.000    0.609   \n",
       "1       {'neg': 0.077, 'neu': 0.797, 'pos': 0.126, 'co...     0.077    0.797   \n",
       "2       {'neg': 0.095, 'neu': 0.317, 'pos': 0.588, 'co...     0.095    0.317   \n",
       "3       {'neg': 0.0, 'neu': 0.637, 'pos': 0.363, 'comp...     0.000    0.637   \n",
       "4       {'neg': 0.053, 'neu': 0.48, 'pos': 0.467, 'com...     0.053    0.480   \n",
       "...                                                   ...       ...      ...   \n",
       "389872  {'neg': 0.0, 'neu': 0.808, 'pos': 0.192, 'comp...     0.000    0.808   \n",
       "389873  {'neg': 0.0, 'neu': 0.637, 'pos': 0.363, 'comp...     0.000    0.637   \n",
       "389874  {'neg': 0.053, 'neu': 0.48, 'pos': 0.467, 'com...     0.053    0.480   \n",
       "389875  {'neg': 0.0, 'neu': 0.694, 'pos': 0.306, 'comp...     0.000    0.694   \n",
       "389876  {'neg': 0.0, 'neu': 0.527, 'pos': 0.473, 'comp...     0.000    0.527   \n",
       "\n",
       "        positive  compound  \n",
       "0          0.391    0.8505  \n",
       "1          0.126    0.2023  \n",
       "2          0.588    0.9186  \n",
       "3          0.363    0.8442  \n",
       "4          0.467    0.9536  \n",
       "...          ...       ...  \n",
       "389872     0.192    0.6900  \n",
       "389873     0.363    0.8442  \n",
       "389874     0.467    0.9536  \n",
       "389875     0.306    0.9579  \n",
       "389876     0.473    0.8016  \n",
       "\n",
       "[389877 rows x 6 columns]"
      ]
     },
     "execution_count": 21,
     "metadata": {},
     "output_type": "execute_result"
    }
   ],
   "source": [
    "df"
   ]
  },
  {
   "cell_type": "code",
   "execution_count": 22,
   "id": "0b656c97",
   "metadata": {},
   "outputs": [],
   "source": [
    "def polarity_score(compound):\n",
    "    if compound >= 0:\n",
    "        return \"positive\"\n",
    "    elif compound < 0:\n",
    "        return \"negative\""
   ]
  },
  {
   "cell_type": "code",
   "execution_count": 23,
   "id": "2a272c19",
   "metadata": {},
   "outputs": [
    {
     "data": {
      "text/html": [
       "<div>\n",
       "<style scoped>\n",
       "    .dataframe tbody tr th:only-of-type {\n",
       "        vertical-align: middle;\n",
       "    }\n",
       "\n",
       "    .dataframe tbody tr th {\n",
       "        vertical-align: top;\n",
       "    }\n",
       "\n",
       "    .dataframe thead th {\n",
       "        text-align: right;\n",
       "    }\n",
       "</style>\n",
       "<table border=\"1\" class=\"dataframe\">\n",
       "  <thead>\n",
       "    <tr style=\"text-align: right;\">\n",
       "      <th></th>\n",
       "      <th>Text</th>\n",
       "      <th>labels</th>\n",
       "      <th>negative</th>\n",
       "      <th>neutral</th>\n",
       "      <th>positive</th>\n",
       "      <th>compound</th>\n",
       "      <th>new_labels</th>\n",
       "    </tr>\n",
       "  </thead>\n",
       "  <tbody>\n",
       "    <tr>\n",
       "      <th>0</th>\n",
       "      <td>... enough sizes colors. fits true size size 8...</td>\n",
       "      <td>{'neg': 0.0, 'neu': 0.609, 'pos': 0.391, 'comp...</td>\n",
       "      <td>0.000</td>\n",
       "      <td>0.609</td>\n",
       "      <td>0.391</td>\n",
       "      <td>0.8505</td>\n",
       "      <td>positive</td>\n",
       "    </tr>\n",
       "    <tr>\n",
       "      <th>1</th>\n",
       "      <td>ordered shoes replace previous pair ripped apa...</td>\n",
       "      <td>{'neg': 0.077, 'neu': 0.797, 'pos': 0.126, 'co...</td>\n",
       "      <td>0.077</td>\n",
       "      <td>0.797</td>\n",
       "      <td>0.126</td>\n",
       "      <td>0.2023</td>\n",
       "      <td>positive</td>\n",
       "    </tr>\n",
       "    <tr>\n",
       "      <th>2</th>\n",
       "      <td>like clarks, guys disappoint. fit great look e...</td>\n",
       "      <td>{'neg': 0.095, 'neu': 0.317, 'pos': 0.588, 'co...</td>\n",
       "      <td>0.095</td>\n",
       "      <td>0.317</td>\n",
       "      <td>0.588</td>\n",
       "      <td>0.9186</td>\n",
       "      <td>positive</td>\n",
       "    </tr>\n",
       "    <tr>\n",
       "      <th>3</th>\n",
       "      <td>purchased annie peanut comfortable shoes own. ...</td>\n",
       "      <td>{'neg': 0.0, 'neu': 0.637, 'pos': 0.363, 'comp...</td>\n",
       "      <td>0.000</td>\n",
       "      <td>0.637</td>\n",
       "      <td>0.363</td>\n",
       "      <td>0.8442</td>\n",
       "      <td>positive</td>\n",
       "    </tr>\n",
       "    <tr>\n",
       "      <th>4</th>\n",
       "      <td>favorite shoes time. first bought denim, wore ...</td>\n",
       "      <td>{'neg': 0.053, 'neu': 0.48, 'pos': 0.467, 'com...</td>\n",
       "      <td>0.053</td>\n",
       "      <td>0.480</td>\n",
       "      <td>0.467</td>\n",
       "      <td>0.9536</td>\n",
       "      <td>positive</td>\n",
       "    </tr>\n",
       "    <tr>\n",
       "      <th>5</th>\n",
       "      <td>usually purchase shoes without trying first st...</td>\n",
       "      <td>{'neg': 0.0, 'neu': 0.694, 'pos': 0.306, 'comp...</td>\n",
       "      <td>0.000</td>\n",
       "      <td>0.694</td>\n",
       "      <td>0.306</td>\n",
       "      <td>0.9579</td>\n",
       "      <td>positive</td>\n",
       "    </tr>\n",
       "    <tr>\n",
       "      <th>6</th>\n",
       "      <td>completely satisfied manner order delivered.th...</td>\n",
       "      <td>{'neg': 0.0, 'neu': 0.527, 'pos': 0.473, 'comp...</td>\n",
       "      <td>0.000</td>\n",
       "      <td>0.527</td>\n",
       "      <td>0.473</td>\n",
       "      <td>0.8016</td>\n",
       "      <td>positive</td>\n",
       "    </tr>\n",
       "    <tr>\n",
       "      <th>7</th>\n",
       "      <td>boots well made. husband wears work loves them...</td>\n",
       "      <td>{'neg': 0.0, 'neu': 0.603, 'pos': 0.397, 'comp...</td>\n",
       "      <td>0.000</td>\n",
       "      <td>0.603</td>\n",
       "      <td>0.397</td>\n",
       "      <td>0.8807</td>\n",
       "      <td>positive</td>\n",
       "    </tr>\n",
       "    <tr>\n",
       "      <th>8</th>\n",
       "      <td>shoe good sprinter, really someone runs long d...</td>\n",
       "      <td>{'neg': 0.031, 'neu': 0.841, 'pos': 0.128, 'co...</td>\n",
       "      <td>0.031</td>\n",
       "      <td>0.841</td>\n",
       "      <td>0.128</td>\n",
       "      <td>0.6597</td>\n",
       "      <td>positive</td>\n",
       "    </tr>\n",
       "    <tr>\n",
       "      <th>9</th>\n",
       "      <td>spikes great jumping!but sure order half size ...</td>\n",
       "      <td>{'neg': 0.0, 'neu': 0.589, 'pos': 0.411, 'comp...</td>\n",
       "      <td>0.000</td>\n",
       "      <td>0.589</td>\n",
       "      <td>0.411</td>\n",
       "      <td>0.9111</td>\n",
       "      <td>positive</td>\n",
       "    </tr>\n",
       "    <tr>\n",
       "      <th>10</th>\n",
       "      <td>shoes would awesome but..... sizes run extreme...</td>\n",
       "      <td>{'neg': 0.0, 'neu': 0.823, 'pos': 0.177, 'comp...</td>\n",
       "      <td>0.000</td>\n",
       "      <td>0.823</td>\n",
       "      <td>0.177</td>\n",
       "      <td>0.6249</td>\n",
       "      <td>positive</td>\n",
       "    </tr>\n",
       "    <tr>\n",
       "      <th>11</th>\n",
       "      <td>i'm using track school sprinter. okay, hold to...</td>\n",
       "      <td>{'neg': 0.0, 'neu': 0.95, 'pos': 0.05, 'compou...</td>\n",
       "      <td>0.000</td>\n",
       "      <td>0.950</td>\n",
       "      <td>0.050</td>\n",
       "      <td>0.2263</td>\n",
       "      <td>positive</td>\n",
       "    </tr>\n",
       "    <tr>\n",
       "      <th>12</th>\n",
       "      <td>daughter loved track spikes. sooo cute! quote.</td>\n",
       "      <td>{'neg': 0.0, 'neu': 0.41, 'pos': 0.59, 'compou...</td>\n",
       "      <td>0.000</td>\n",
       "      <td>0.410</td>\n",
       "      <td>0.590</td>\n",
       "      <td>0.8016</td>\n",
       "      <td>positive</td>\n",
       "    </tr>\n",
       "    <tr>\n",
       "      <th>13</th>\n",
       "      <td>comfortable, heel ran wide. run 1/2 inch large...</td>\n",
       "      <td>{'neg': 0.0, 'neu': 0.658, 'pos': 0.342, 'comp...</td>\n",
       "      <td>0.000</td>\n",
       "      <td>0.658</td>\n",
       "      <td>0.342</td>\n",
       "      <td>0.8074</td>\n",
       "      <td>positive</td>\n",
       "    </tr>\n",
       "    <tr>\n",
       "      <th>14</th>\n",
       "      <td>purchased annie peanut comfortable shoes own. ...</td>\n",
       "      <td>{'neg': 0.0, 'neu': 0.637, 'pos': 0.363, 'comp...</td>\n",
       "      <td>0.000</td>\n",
       "      <td>0.637</td>\n",
       "      <td>0.363</td>\n",
       "      <td>0.8442</td>\n",
       "      <td>positive</td>\n",
       "    </tr>\n",
       "    <tr>\n",
       "      <th>15</th>\n",
       "      <td>favorite shoes time. first bought denim, wore ...</td>\n",
       "      <td>{'neg': 0.053, 'neu': 0.48, 'pos': 0.467, 'com...</td>\n",
       "      <td>0.053</td>\n",
       "      <td>0.480</td>\n",
       "      <td>0.467</td>\n",
       "      <td>0.9536</td>\n",
       "      <td>positive</td>\n",
       "    </tr>\n",
       "    <tr>\n",
       "      <th>16</th>\n",
       "      <td>usually purchase shoes without trying first st...</td>\n",
       "      <td>{'neg': 0.0, 'neu': 0.694, 'pos': 0.306, 'comp...</td>\n",
       "      <td>0.000</td>\n",
       "      <td>0.694</td>\n",
       "      <td>0.306</td>\n",
       "      <td>0.9579</td>\n",
       "      <td>positive</td>\n",
       "    </tr>\n",
       "    <tr>\n",
       "      <th>17</th>\n",
       "      <td>completely satisfied manner order delivered.th...</td>\n",
       "      <td>{'neg': 0.0, 'neu': 0.527, 'pos': 0.473, 'comp...</td>\n",
       "      <td>0.000</td>\n",
       "      <td>0.527</td>\n",
       "      <td>0.473</td>\n",
       "      <td>0.8016</td>\n",
       "      <td>positive</td>\n",
       "    </tr>\n",
       "    <tr>\n",
       "      <th>18</th>\n",
       "      <td>patent leather mary janes adoreable. remind no...</td>\n",
       "      <td>{'neg': 0.0, 'neu': 0.682, 'pos': 0.318, 'comp...</td>\n",
       "      <td>0.000</td>\n",
       "      <td>0.682</td>\n",
       "      <td>0.318</td>\n",
       "      <td>0.9181</td>\n",
       "      <td>positive</td>\n",
       "    </tr>\n",
       "    <tr>\n",
       "      <th>19</th>\n",
       "      <td>purchased annie peanut comfortable shoes own. ...</td>\n",
       "      <td>{'neg': 0.0, 'neu': 0.637, 'pos': 0.363, 'comp...</td>\n",
       "      <td>0.000</td>\n",
       "      <td>0.637</td>\n",
       "      <td>0.363</td>\n",
       "      <td>0.8442</td>\n",
       "      <td>positive</td>\n",
       "    </tr>\n",
       "    <tr>\n",
       "      <th>20</th>\n",
       "      <td>favorite shoes time. first bought denim, wore ...</td>\n",
       "      <td>{'neg': 0.053, 'neu': 0.48, 'pos': 0.467, 'com...</td>\n",
       "      <td>0.053</td>\n",
       "      <td>0.480</td>\n",
       "      <td>0.467</td>\n",
       "      <td>0.9536</td>\n",
       "      <td>positive</td>\n",
       "    </tr>\n",
       "    <tr>\n",
       "      <th>21</th>\n",
       "      <td>usually purchase shoes without trying first st...</td>\n",
       "      <td>{'neg': 0.0, 'neu': 0.694, 'pos': 0.306, 'comp...</td>\n",
       "      <td>0.000</td>\n",
       "      <td>0.694</td>\n",
       "      <td>0.306</td>\n",
       "      <td>0.9579</td>\n",
       "      <td>positive</td>\n",
       "    </tr>\n",
       "    <tr>\n",
       "      <th>22</th>\n",
       "      <td>completely satisfied manner order delivered.th...</td>\n",
       "      <td>{'neg': 0.0, 'neu': 0.527, 'pos': 0.473, 'comp...</td>\n",
       "      <td>0.000</td>\n",
       "      <td>0.527</td>\n",
       "      <td>0.473</td>\n",
       "      <td>0.8016</td>\n",
       "      <td>positive</td>\n",
       "    </tr>\n",
       "    <tr>\n",
       "      <th>23</th>\n",
       "      <td>comfortable, great looking sandals seem well m...</td>\n",
       "      <td>{'neg': 0.0, 'neu': 0.424, 'pos': 0.576, 'comp...</td>\n",
       "      <td>0.000</td>\n",
       "      <td>0.424</td>\n",
       "      <td>0.576</td>\n",
       "      <td>0.8591</td>\n",
       "      <td>positive</td>\n",
       "    </tr>\n",
       "    <tr>\n",
       "      <th>24</th>\n",
       "      <td>love casual elegance thong. style, tons comfor...</td>\n",
       "      <td>{'neg': 0.036, 'neu': 0.569, 'pos': 0.395, 'co...</td>\n",
       "      <td>0.036</td>\n",
       "      <td>0.569</td>\n",
       "      <td>0.395</td>\n",
       "      <td>0.9918</td>\n",
       "      <td>positive</td>\n",
       "    </tr>\n",
       "    <tr>\n",
       "      <th>25</th>\n",
       "      <td>great value money;looks like much expensive sh...</td>\n",
       "      <td>{'neg': 0.0, 'neu': 0.393, 'pos': 0.607, 'comp...</td>\n",
       "      <td>0.000</td>\n",
       "      <td>0.393</td>\n",
       "      <td>0.607</td>\n",
       "      <td>0.9552</td>\n",
       "      <td>positive</td>\n",
       "    </tr>\n",
       "    <tr>\n",
       "      <th>26</th>\n",
       "      <td>purchased annie peanut comfortable shoes own. ...</td>\n",
       "      <td>{'neg': 0.0, 'neu': 0.637, 'pos': 0.363, 'comp...</td>\n",
       "      <td>0.000</td>\n",
       "      <td>0.637</td>\n",
       "      <td>0.363</td>\n",
       "      <td>0.8442</td>\n",
       "      <td>positive</td>\n",
       "    </tr>\n",
       "    <tr>\n",
       "      <th>27</th>\n",
       "      <td>favorite shoes time. first bought denim, wore ...</td>\n",
       "      <td>{'neg': 0.053, 'neu': 0.48, 'pos': 0.467, 'com...</td>\n",
       "      <td>0.053</td>\n",
       "      <td>0.480</td>\n",
       "      <td>0.467</td>\n",
       "      <td>0.9536</td>\n",
       "      <td>positive</td>\n",
       "    </tr>\n",
       "    <tr>\n",
       "      <th>28</th>\n",
       "      <td>usually purchase shoes without trying first st...</td>\n",
       "      <td>{'neg': 0.0, 'neu': 0.694, 'pos': 0.306, 'comp...</td>\n",
       "      <td>0.000</td>\n",
       "      <td>0.694</td>\n",
       "      <td>0.306</td>\n",
       "      <td>0.9579</td>\n",
       "      <td>positive</td>\n",
       "    </tr>\n",
       "    <tr>\n",
       "      <th>29</th>\n",
       "      <td>completely satisfied manner order delivered.th...</td>\n",
       "      <td>{'neg': 0.0, 'neu': 0.527, 'pos': 0.473, 'comp...</td>\n",
       "      <td>0.000</td>\n",
       "      <td>0.527</td>\n",
       "      <td>0.473</td>\n",
       "      <td>0.8016</td>\n",
       "      <td>positive</td>\n",
       "    </tr>\n",
       "  </tbody>\n",
       "</table>\n",
       "</div>"
      ],
      "text/plain": [
       "                                                 Text  \\\n",
       "0   ... enough sizes colors. fits true size size 8...   \n",
       "1   ordered shoes replace previous pair ripped apa...   \n",
       "2   like clarks, guys disappoint. fit great look e...   \n",
       "3   purchased annie peanut comfortable shoes own. ...   \n",
       "4   favorite shoes time. first bought denim, wore ...   \n",
       "5   usually purchase shoes without trying first st...   \n",
       "6   completely satisfied manner order delivered.th...   \n",
       "7   boots well made. husband wears work loves them...   \n",
       "8   shoe good sprinter, really someone runs long d...   \n",
       "9   spikes great jumping!but sure order half size ...   \n",
       "10  shoes would awesome but..... sizes run extreme...   \n",
       "11  i'm using track school sprinter. okay, hold to...   \n",
       "12     daughter loved track spikes. sooo cute! quote.   \n",
       "13  comfortable, heel ran wide. run 1/2 inch large...   \n",
       "14  purchased annie peanut comfortable shoes own. ...   \n",
       "15  favorite shoes time. first bought denim, wore ...   \n",
       "16  usually purchase shoes without trying first st...   \n",
       "17  completely satisfied manner order delivered.th...   \n",
       "18  patent leather mary janes adoreable. remind no...   \n",
       "19  purchased annie peanut comfortable shoes own. ...   \n",
       "20  favorite shoes time. first bought denim, wore ...   \n",
       "21  usually purchase shoes without trying first st...   \n",
       "22  completely satisfied manner order delivered.th...   \n",
       "23  comfortable, great looking sandals seem well m...   \n",
       "24  love casual elegance thong. style, tons comfor...   \n",
       "25  great value money;looks like much expensive sh...   \n",
       "26  purchased annie peanut comfortable shoes own. ...   \n",
       "27  favorite shoes time. first bought denim, wore ...   \n",
       "28  usually purchase shoes without trying first st...   \n",
       "29  completely satisfied manner order delivered.th...   \n",
       "\n",
       "                                               labels  negative  neutral  \\\n",
       "0   {'neg': 0.0, 'neu': 0.609, 'pos': 0.391, 'comp...     0.000    0.609   \n",
       "1   {'neg': 0.077, 'neu': 0.797, 'pos': 0.126, 'co...     0.077    0.797   \n",
       "2   {'neg': 0.095, 'neu': 0.317, 'pos': 0.588, 'co...     0.095    0.317   \n",
       "3   {'neg': 0.0, 'neu': 0.637, 'pos': 0.363, 'comp...     0.000    0.637   \n",
       "4   {'neg': 0.053, 'neu': 0.48, 'pos': 0.467, 'com...     0.053    0.480   \n",
       "5   {'neg': 0.0, 'neu': 0.694, 'pos': 0.306, 'comp...     0.000    0.694   \n",
       "6   {'neg': 0.0, 'neu': 0.527, 'pos': 0.473, 'comp...     0.000    0.527   \n",
       "7   {'neg': 0.0, 'neu': 0.603, 'pos': 0.397, 'comp...     0.000    0.603   \n",
       "8   {'neg': 0.031, 'neu': 0.841, 'pos': 0.128, 'co...     0.031    0.841   \n",
       "9   {'neg': 0.0, 'neu': 0.589, 'pos': 0.411, 'comp...     0.000    0.589   \n",
       "10  {'neg': 0.0, 'neu': 0.823, 'pos': 0.177, 'comp...     0.000    0.823   \n",
       "11  {'neg': 0.0, 'neu': 0.95, 'pos': 0.05, 'compou...     0.000    0.950   \n",
       "12  {'neg': 0.0, 'neu': 0.41, 'pos': 0.59, 'compou...     0.000    0.410   \n",
       "13  {'neg': 0.0, 'neu': 0.658, 'pos': 0.342, 'comp...     0.000    0.658   \n",
       "14  {'neg': 0.0, 'neu': 0.637, 'pos': 0.363, 'comp...     0.000    0.637   \n",
       "15  {'neg': 0.053, 'neu': 0.48, 'pos': 0.467, 'com...     0.053    0.480   \n",
       "16  {'neg': 0.0, 'neu': 0.694, 'pos': 0.306, 'comp...     0.000    0.694   \n",
       "17  {'neg': 0.0, 'neu': 0.527, 'pos': 0.473, 'comp...     0.000    0.527   \n",
       "18  {'neg': 0.0, 'neu': 0.682, 'pos': 0.318, 'comp...     0.000    0.682   \n",
       "19  {'neg': 0.0, 'neu': 0.637, 'pos': 0.363, 'comp...     0.000    0.637   \n",
       "20  {'neg': 0.053, 'neu': 0.48, 'pos': 0.467, 'com...     0.053    0.480   \n",
       "21  {'neg': 0.0, 'neu': 0.694, 'pos': 0.306, 'comp...     0.000    0.694   \n",
       "22  {'neg': 0.0, 'neu': 0.527, 'pos': 0.473, 'comp...     0.000    0.527   \n",
       "23  {'neg': 0.0, 'neu': 0.424, 'pos': 0.576, 'comp...     0.000    0.424   \n",
       "24  {'neg': 0.036, 'neu': 0.569, 'pos': 0.395, 'co...     0.036    0.569   \n",
       "25  {'neg': 0.0, 'neu': 0.393, 'pos': 0.607, 'comp...     0.000    0.393   \n",
       "26  {'neg': 0.0, 'neu': 0.637, 'pos': 0.363, 'comp...     0.000    0.637   \n",
       "27  {'neg': 0.053, 'neu': 0.48, 'pos': 0.467, 'com...     0.053    0.480   \n",
       "28  {'neg': 0.0, 'neu': 0.694, 'pos': 0.306, 'comp...     0.000    0.694   \n",
       "29  {'neg': 0.0, 'neu': 0.527, 'pos': 0.473, 'comp...     0.000    0.527   \n",
       "\n",
       "    positive  compound new_labels  \n",
       "0      0.391    0.8505   positive  \n",
       "1      0.126    0.2023   positive  \n",
       "2      0.588    0.9186   positive  \n",
       "3      0.363    0.8442   positive  \n",
       "4      0.467    0.9536   positive  \n",
       "5      0.306    0.9579   positive  \n",
       "6      0.473    0.8016   positive  \n",
       "7      0.397    0.8807   positive  \n",
       "8      0.128    0.6597   positive  \n",
       "9      0.411    0.9111   positive  \n",
       "10     0.177    0.6249   positive  \n",
       "11     0.050    0.2263   positive  \n",
       "12     0.590    0.8016   positive  \n",
       "13     0.342    0.8074   positive  \n",
       "14     0.363    0.8442   positive  \n",
       "15     0.467    0.9536   positive  \n",
       "16     0.306    0.9579   positive  \n",
       "17     0.473    0.8016   positive  \n",
       "18     0.318    0.9181   positive  \n",
       "19     0.363    0.8442   positive  \n",
       "20     0.467    0.9536   positive  \n",
       "21     0.306    0.9579   positive  \n",
       "22     0.473    0.8016   positive  \n",
       "23     0.576    0.8591   positive  \n",
       "24     0.395    0.9918   positive  \n",
       "25     0.607    0.9552   positive  \n",
       "26     0.363    0.8442   positive  \n",
       "27     0.467    0.9536   positive  \n",
       "28     0.306    0.9579   positive  \n",
       "29     0.473    0.8016   positive  "
      ]
     },
     "execution_count": 23,
     "metadata": {},
     "output_type": "execute_result"
    }
   ],
   "source": [
    "df['new_labels'] = df['compound'].apply(lambda val: polarity_score(val))\n",
    "df.head(30)"
   ]
  },
  {
   "cell_type": "markdown",
   "id": "9188e1b2",
   "metadata": {},
   "source": [
    "## Check value counts"
   ]
  },
  {
   "cell_type": "code",
   "execution_count": 24,
   "id": "14a9507c",
   "metadata": {},
   "outputs": [
    {
     "data": {
      "text/plain": [
       "positive    360547\n",
       "negative     29330\n",
       "Name: new_labels, dtype: int64"
      ]
     },
     "execution_count": 24,
     "metadata": {},
     "output_type": "execute_result"
    }
   ],
   "source": [
    "df['new_labels'].value_counts()"
   ]
  },
  {
   "cell_type": "markdown",
   "id": "8c3795b5",
   "metadata": {},
   "source": [
    "## Check null values "
   ]
  },
  {
   "cell_type": "code",
   "execution_count": 25,
   "id": "014b17b1",
   "metadata": {},
   "outputs": [
    {
     "data": {
      "text/plain": [
       "Text          0\n",
       "labels        0\n",
       "negative      0\n",
       "neutral       0\n",
       "positive      0\n",
       "compound      0\n",
       "new_labels    0\n",
       "dtype: int64"
      ]
     },
     "execution_count": 25,
     "metadata": {},
     "output_type": "execute_result"
    }
   ],
   "source": [
    "df.isna().sum()"
   ]
  },
  {
   "cell_type": "markdown",
   "id": "05cf87d2",
   "metadata": {},
   "source": [
    "## Drop all the columns except Text and new_labels"
   ]
  },
  {
   "cell_type": "code",
   "execution_count": 26,
   "id": "b1212805",
   "metadata": {},
   "outputs": [],
   "source": [
    "df.drop(['labels', 'negative', 'neutral', 'positive', 'compound'], axis=1, inplace=True)"
   ]
  },
  {
   "cell_type": "code",
   "execution_count": 27,
   "id": "ef2b89c9",
   "metadata": {},
   "outputs": [],
   "source": [
    "#df.drop(['Summary'], axis=1, inplace=True)"
   ]
  },
  {
   "cell_type": "code",
   "execution_count": 28,
   "id": "e2d1f0c4",
   "metadata": {},
   "outputs": [
    {
     "data": {
      "text/html": [
       "<div>\n",
       "<style scoped>\n",
       "    .dataframe tbody tr th:only-of-type {\n",
       "        vertical-align: middle;\n",
       "    }\n",
       "\n",
       "    .dataframe tbody tr th {\n",
       "        vertical-align: top;\n",
       "    }\n",
       "\n",
       "    .dataframe thead th {\n",
       "        text-align: right;\n",
       "    }\n",
       "</style>\n",
       "<table border=\"1\" class=\"dataframe\">\n",
       "  <thead>\n",
       "    <tr style=\"text-align: right;\">\n",
       "      <th></th>\n",
       "      <th>Text</th>\n",
       "      <th>new_labels</th>\n",
       "    </tr>\n",
       "  </thead>\n",
       "  <tbody>\n",
       "    <tr>\n",
       "      <th>0</th>\n",
       "      <td>... enough sizes colors. fits true size size 8...</td>\n",
       "      <td>positive</td>\n",
       "    </tr>\n",
       "    <tr>\n",
       "      <th>1</th>\n",
       "      <td>ordered shoes replace previous pair ripped apa...</td>\n",
       "      <td>positive</td>\n",
       "    </tr>\n",
       "    <tr>\n",
       "      <th>2</th>\n",
       "      <td>like clarks, guys disappoint. fit great look e...</td>\n",
       "      <td>positive</td>\n",
       "    </tr>\n",
       "    <tr>\n",
       "      <th>3</th>\n",
       "      <td>purchased annie peanut comfortable shoes own. ...</td>\n",
       "      <td>positive</td>\n",
       "    </tr>\n",
       "    <tr>\n",
       "      <th>4</th>\n",
       "      <td>favorite shoes time. first bought denim, wore ...</td>\n",
       "      <td>positive</td>\n",
       "    </tr>\n",
       "    <tr>\n",
       "      <th>...</th>\n",
       "      <td>...</td>\n",
       "      <td>...</td>\n",
       "    </tr>\n",
       "    <tr>\n",
       "      <th>389872</th>\n",
       "      <td>shoes whole size smaller marked. wear 7 7 woul...</td>\n",
       "      <td>positive</td>\n",
       "    </tr>\n",
       "    <tr>\n",
       "      <th>389873</th>\n",
       "      <td>purchased annie peanut comfortable shoes own. ...</td>\n",
       "      <td>positive</td>\n",
       "    </tr>\n",
       "    <tr>\n",
       "      <th>389874</th>\n",
       "      <td>favorite shoes time. first bought denim, wore ...</td>\n",
       "      <td>positive</td>\n",
       "    </tr>\n",
       "    <tr>\n",
       "      <th>389875</th>\n",
       "      <td>usually purchase shoes without trying first st...</td>\n",
       "      <td>positive</td>\n",
       "    </tr>\n",
       "    <tr>\n",
       "      <th>389876</th>\n",
       "      <td>completely satisfied manner order delivered.th...</td>\n",
       "      <td>positive</td>\n",
       "    </tr>\n",
       "  </tbody>\n",
       "</table>\n",
       "<p>389877 rows × 2 columns</p>\n",
       "</div>"
      ],
      "text/plain": [
       "                                                     Text new_labels\n",
       "0       ... enough sizes colors. fits true size size 8...   positive\n",
       "1       ordered shoes replace previous pair ripped apa...   positive\n",
       "2       like clarks, guys disappoint. fit great look e...   positive\n",
       "3       purchased annie peanut comfortable shoes own. ...   positive\n",
       "4       favorite shoes time. first bought denim, wore ...   positive\n",
       "...                                                   ...        ...\n",
       "389872  shoes whole size smaller marked. wear 7 7 woul...   positive\n",
       "389873  purchased annie peanut comfortable shoes own. ...   positive\n",
       "389874  favorite shoes time. first bought denim, wore ...   positive\n",
       "389875  usually purchase shoes without trying first st...   positive\n",
       "389876  completely satisfied manner order delivered.th...   positive\n",
       "\n",
       "[389877 rows x 2 columns]"
      ]
     },
     "execution_count": 28,
     "metadata": {},
     "output_type": "execute_result"
    }
   ],
   "source": [
    "df"
   ]
  },
  {
   "cell_type": "markdown",
   "id": "8566d37c",
   "metadata": {},
   "source": [
    "## Create dependent and independent variables"
   ]
  },
  {
   "cell_type": "code",
   "execution_count": 29,
   "id": "16812f80",
   "metadata": {},
   "outputs": [
    {
     "data": {
      "text/html": [
       "<div>\n",
       "<style scoped>\n",
       "    .dataframe tbody tr th:only-of-type {\n",
       "        vertical-align: middle;\n",
       "    }\n",
       "\n",
       "    .dataframe tbody tr th {\n",
       "        vertical-align: top;\n",
       "    }\n",
       "\n",
       "    .dataframe thead th {\n",
       "        text-align: right;\n",
       "    }\n",
       "</style>\n",
       "<table border=\"1\" class=\"dataframe\">\n",
       "  <thead>\n",
       "    <tr style=\"text-align: right;\">\n",
       "      <th></th>\n",
       "      <th>Text</th>\n",
       "    </tr>\n",
       "  </thead>\n",
       "  <tbody>\n",
       "    <tr>\n",
       "      <th>0</th>\n",
       "      <td>... enough sizes colors. fits true size size 8...</td>\n",
       "    </tr>\n",
       "    <tr>\n",
       "      <th>1</th>\n",
       "      <td>ordered shoes replace previous pair ripped apa...</td>\n",
       "    </tr>\n",
       "    <tr>\n",
       "      <th>2</th>\n",
       "      <td>like clarks, guys disappoint. fit great look e...</td>\n",
       "    </tr>\n",
       "    <tr>\n",
       "      <th>3</th>\n",
       "      <td>purchased annie peanut comfortable shoes own. ...</td>\n",
       "    </tr>\n",
       "    <tr>\n",
       "      <th>4</th>\n",
       "      <td>favorite shoes time. first bought denim, wore ...</td>\n",
       "    </tr>\n",
       "    <tr>\n",
       "      <th>...</th>\n",
       "      <td>...</td>\n",
       "    </tr>\n",
       "    <tr>\n",
       "      <th>389872</th>\n",
       "      <td>shoes whole size smaller marked. wear 7 7 woul...</td>\n",
       "    </tr>\n",
       "    <tr>\n",
       "      <th>389873</th>\n",
       "      <td>purchased annie peanut comfortable shoes own. ...</td>\n",
       "    </tr>\n",
       "    <tr>\n",
       "      <th>389874</th>\n",
       "      <td>favorite shoes time. first bought denim, wore ...</td>\n",
       "    </tr>\n",
       "    <tr>\n",
       "      <th>389875</th>\n",
       "      <td>usually purchase shoes without trying first st...</td>\n",
       "    </tr>\n",
       "    <tr>\n",
       "      <th>389876</th>\n",
       "      <td>completely satisfied manner order delivered.th...</td>\n",
       "    </tr>\n",
       "  </tbody>\n",
       "</table>\n",
       "<p>389877 rows × 1 columns</p>\n",
       "</div>"
      ],
      "text/plain": [
       "                                                     Text\n",
       "0       ... enough sizes colors. fits true size size 8...\n",
       "1       ordered shoes replace previous pair ripped apa...\n",
       "2       like clarks, guys disappoint. fit great look e...\n",
       "3       purchased annie peanut comfortable shoes own. ...\n",
       "4       favorite shoes time. first bought denim, wore ...\n",
       "...                                                   ...\n",
       "389872  shoes whole size smaller marked. wear 7 7 woul...\n",
       "389873  purchased annie peanut comfortable shoes own. ...\n",
       "389874  favorite shoes time. first bought denim, wore ...\n",
       "389875  usually purchase shoes without trying first st...\n",
       "389876  completely satisfied manner order delivered.th...\n",
       "\n",
       "[389877 rows x 1 columns]"
      ]
     },
     "execution_count": 29,
     "metadata": {},
     "output_type": "execute_result"
    }
   ],
   "source": [
    "X = df.drop('new_labels', axis=1)\n",
    "X"
   ]
  },
  {
   "cell_type": "code",
   "execution_count": 30,
   "id": "25fac792",
   "metadata": {},
   "outputs": [
    {
     "data": {
      "text/plain": [
       "0         positive\n",
       "1         positive\n",
       "2         positive\n",
       "3         positive\n",
       "4         positive\n",
       "            ...   \n",
       "389872    positive\n",
       "389873    positive\n",
       "389874    positive\n",
       "389875    positive\n",
       "389876    positive\n",
       "Name: new_labels, Length: 389877, dtype: object"
      ]
     },
     "execution_count": 30,
     "metadata": {},
     "output_type": "execute_result"
    }
   ],
   "source": [
    "y=df['new_labels']\n",
    "y"
   ]
  },
  {
   "cell_type": "markdown",
   "id": "f832c809",
   "metadata": {},
   "source": [
    "## Count values of y"
   ]
  },
  {
   "cell_type": "code",
   "execution_count": 31,
   "id": "f5b6607b",
   "metadata": {},
   "outputs": [
    {
     "data": {
      "text/plain": [
       "<AxesSubplot:xlabel='new_labels', ylabel='count'>"
      ]
     },
     "execution_count": 31,
     "metadata": {},
     "output_type": "execute_result"
    },
    {
     "data": {
      "image/png": "[encoded data removed]",
      "text/plain": [
       "<Figure size 432x288 with 1 Axes>"
      ]
     },
     "metadata": {
      "needs_background": "light"
     },
     "output_type": "display_data"
    }
   ],
   "source": [
    "sns.countplot(x = y)"
   ]
  },
  {
   "cell_type": "markdown",
   "id": "e2fd0f51",
   "metadata": {},
   "source": [
    "## Data totally imbalance so first balance the data by over_sampling"
   ]
  },
  {
   "cell_type": "code",
   "execution_count": 33,
   "id": "2ce18001-a040-46f8-b48f-a06fad5f1cee",
   "metadata": {},
   "outputs": [
    {
     "name": "stdout",
     "output_type": "stream",
     "text": [
      "Collecting imblearn\n",
      "  Downloading imblearn-0.0-py2.py3-none-any.whl (1.9 kB)\n",
      "Collecting imbalanced-learn\n",
      "  Downloading imbalanced_learn-0.8.1-py3-none-any.whl (189 kB)\n",
      "Requirement already satisfied: joblib>=0.11 in c:\\users\\wajid\\anaconda3\\lib\\site-packages (from imbalanced-learn->imblearn) (1.1.0)\n",
      "Requirement already satisfied: numpy>=1.13.3 in c:\\users\\wajid\\anaconda3\\lib\\site-packages (from imbalanced-learn->imblearn) (1.20.3)\n",
      "Requirement already satisfied: scikit-learn>=0.24 in c:\\users\\wajid\\anaconda3\\lib\\site-packages (from imbalanced-learn->imblearn) (0.24.2)\n",
      "Requirement already satisfied: scipy>=0.19.1 in c:\\users\\wajid\\anaconda3\\lib\\site-packages (from imbalanced-learn->imblearn) (1.7.1)\n",
      "Requirement already satisfied: threadpoolctl>=2.0.0 in c:\\users\\wajid\\anaconda3\\lib\\site-packages (from scikit-learn>=0.24->imbalanced-learn->imblearn) (2.2.0)\n",
      "Installing collected packages: imbalanced-learn, imblearn\n",
      "Successfully installed imbalanced-learn-0.8.1 imblearn-0.0\n"
     ]
    }
   ],
   "source": [
    "!pip install imblearn"
   ]
  },
  {
   "cell_type": "code",
   "execution_count": 34,
   "id": "664f7ab6",
   "metadata": {},
   "outputs": [],
   "source": [
    "from imblearn.over_sampling import RandomOverSampler\n",
    "os = RandomOverSampler(sampling_strategy=1)\n",
    "x_res, y_res = os.fit_resample(X,y)"
   ]
  },
  {
   "cell_type": "code",
   "execution_count": 35,
   "id": "a6699a01",
   "metadata": {},
   "outputs": [
    {
     "data": {
      "text/plain": [
       "<AxesSubplot:xlabel='new_labels', ylabel='count'>"
      ]
     },
     "execution_count": 35,
     "metadata": {},
     "output_type": "execute_result"
    },
    {
     "data": {
      "image/png": "[encoded data removed]",
      "text/plain": [
       "<Figure size 432x288 with 1 Axes>"
      ]
     },
     "metadata": {
      "needs_background": "light"
     },
     "output_type": "display_data"
    }
   ],
   "source": [
    "sns.countplot(x = y_res)"
   ]
  },
  {
   "cell_type": "code",
   "execution_count": 36,
   "id": "759d2010",
   "metadata": {},
   "outputs": [
    {
     "data": {
      "text/plain": [
       "positive    360547\n",
       "negative    360547\n",
       "Name: new_labels, dtype: int64"
      ]
     },
     "execution_count": 36,
     "metadata": {},
     "output_type": "execute_result"
    }
   ],
   "source": [
    "y_res.value_counts()"
   ]
  },
  {
   "cell_type": "code",
   "execution_count": 37,
   "id": "85fa02b8",
   "metadata": {},
   "outputs": [
    {
     "data": {
      "text/plain": [
       "0         positive\n",
       "1         positive\n",
       "2         positive\n",
       "3         positive\n",
       "4         positive\n",
       "            ...   \n",
       "721089    negative\n",
       "721090    negative\n",
       "721091    negative\n",
       "721092    negative\n",
       "721093    negative\n",
       "Name: new_labels, Length: 721094, dtype: object"
      ]
     },
     "execution_count": 37,
     "metadata": {},
     "output_type": "execute_result"
    }
   ],
   "source": [
    "y_res"
   ]
  },
  {
   "cell_type": "code",
   "execution_count": 38,
   "id": "4dcb47f2",
   "metadata": {},
   "outputs": [
    {
     "data": {
      "text/html": [
       "<div>\n",
       "<style scoped>\n",
       "    .dataframe tbody tr th:only-of-type {\n",
       "        vertical-align: middle;\n",
       "    }\n",
       "\n",
       "    .dataframe tbody tr th {\n",
       "        vertical-align: top;\n",
       "    }\n",
       "\n",
       "    .dataframe thead th {\n",
       "        text-align: right;\n",
       "    }\n",
       "</style>\n",
       "<table border=\"1\" class=\"dataframe\">\n",
       "  <thead>\n",
       "    <tr style=\"text-align: right;\">\n",
       "      <th></th>\n",
       "      <th>Text</th>\n",
       "    </tr>\n",
       "  </thead>\n",
       "  <tbody>\n",
       "    <tr>\n",
       "      <th>0</th>\n",
       "      <td>... enough sizes colors. fits true size size 8...</td>\n",
       "    </tr>\n",
       "    <tr>\n",
       "      <th>1</th>\n",
       "      <td>ordered shoes replace previous pair ripped apa...</td>\n",
       "    </tr>\n",
       "    <tr>\n",
       "      <th>2</th>\n",
       "      <td>like clarks, guys disappoint. fit great look e...</td>\n",
       "    </tr>\n",
       "    <tr>\n",
       "      <th>3</th>\n",
       "      <td>purchased annie peanut comfortable shoes own. ...</td>\n",
       "    </tr>\n",
       "    <tr>\n",
       "      <th>4</th>\n",
       "      <td>favorite shoes time. first bought denim, wore ...</td>\n",
       "    </tr>\n",
       "    <tr>\n",
       "      <th>...</th>\n",
       "      <td>...</td>\n",
       "    </tr>\n",
       "    <tr>\n",
       "      <th>721089</th>\n",
       "      <td>admittedly l used wear crappy sandals, sketche...</td>\n",
       "    </tr>\n",
       "    <tr>\n",
       "      <th>721090</th>\n",
       "      <td>cautious &amp;quot;breaking in&amp;quot; shoe fear toe...</td>\n",
       "    </tr>\n",
       "    <tr>\n",
       "      <th>721091</th>\n",
       "      <td>great sandal aching feet, they're dressy side....</td>\n",
       "    </tr>\n",
       "    <tr>\n",
       "      <th>721092</th>\n",
       "      <td>aware shoe--in wide- really wide enough called...</td>\n",
       "    </tr>\n",
       "    <tr>\n",
       "      <th>721093</th>\n",
       "      <td>problem quality shoe, complaint sizing confusi...</td>\n",
       "    </tr>\n",
       "  </tbody>\n",
       "</table>\n",
       "<p>721094 rows × 1 columns</p>\n",
       "</div>"
      ],
      "text/plain": [
       "                                                     Text\n",
       "0       ... enough sizes colors. fits true size size 8...\n",
       "1       ordered shoes replace previous pair ripped apa...\n",
       "2       like clarks, guys disappoint. fit great look e...\n",
       "3       purchased annie peanut comfortable shoes own. ...\n",
       "4       favorite shoes time. first bought denim, wore ...\n",
       "...                                                   ...\n",
       "721089  admittedly l used wear crappy sandals, sketche...\n",
       "721090  cautious &quot;breaking in&quot; shoe fear toe...\n",
       "721091  great sandal aching feet, they're dressy side....\n",
       "721092  aware shoe--in wide- really wide enough called...\n",
       "721093  problem quality shoe, complaint sizing confusi...\n",
       "\n",
       "[721094 rows x 1 columns]"
      ]
     },
     "execution_count": 38,
     "metadata": {},
     "output_type": "execute_result"
    }
   ],
   "source": [
    "x_res"
   ]
  },
  {
   "cell_type": "markdown",
   "id": "2c95d23b",
   "metadata": {},
   "source": [
    "## Use nlp to convert text to vectors\n",
    "\n",
    "## Tokenize the words in the x_res variable and Text column"
   ]
  },
  {
   "cell_type": "code",
   "execution_count": 39,
   "id": "cc2c4f26",
   "metadata": {},
   "outputs": [],
   "source": [
    "from nltk.tokenize import word_tokenize\n",
    "X = x_res['Text'].apply(lambda x: word_tokenize(x))"
   ]
  },
  {
   "cell_type": "code",
   "execution_count": 40,
   "id": "d8e458b7",
   "metadata": {},
   "outputs": [
    {
     "data": {
      "text/plain": [
       "0    [..., enough, sizes, colors, ., fits, true, si...\n",
       "1    [ordered, shoes, replace, previous, pair, ripp...\n",
       "2    [like, clarks, ,, guys, disappoint, ., fit, gr...\n",
       "3    [purchased, annie, peanut, comfortable, shoes,...\n",
       "4    [favorite, shoes, time, ., first, bought, deni...\n",
       "Name: Text, dtype: object"
      ]
     },
     "execution_count": 40,
     "metadata": {},
     "output_type": "execute_result"
    }
   ],
   "source": [
    "X.head()"
   ]
  },
  {
   "cell_type": "markdown",
   "id": "4be1cfa0",
   "metadata": {},
   "source": [
    "## Remove non alphabet from text"
   ]
  },
  {
   "cell_type": "code",
   "execution_count": 41,
   "id": "f57fe5e3",
   "metadata": {},
   "outputs": [],
   "source": [
    "X = X.apply(lambda x: [word for word in x if word.isalpha()])"
   ]
  },
  {
   "cell_type": "code",
   "execution_count": 42,
   "id": "2adcfb34",
   "metadata": {},
   "outputs": [
    {
     "data": {
      "text/plain": [
       "0         [enough, sizes, colors, fits, true, size, size...\n",
       "1         [ordered, shoes, replace, previous, pair, ripp...\n",
       "2         [like, clarks, guys, disappoint, fit, great, l...\n",
       "3         [purchased, annie, peanut, comfortable, shoes,...\n",
       "4         [favorite, shoes, time, first, bought, denim, ...\n",
       "                                ...                        \n",
       "721089    [admittedly, l, used, wear, crappy, sandals, s...\n",
       "721090    [cautious, quot, breaking, in, quot, shoe, fea...\n",
       "721091    [great, sandal, aching, feet, they, dressy, si...\n",
       "721092    [aware, shoe, in, really, wide, enough, called...\n",
       "721093    [problem, quality, shoe, complaint, sizing, co...\n",
       "Name: Text, Length: 721094, dtype: object"
      ]
     },
     "execution_count": 42,
     "metadata": {},
     "output_type": "execute_result"
    }
   ],
   "source": [
    "X"
   ]
  },
  {
   "cell_type": "markdown",
   "id": "8d192634",
   "metadata": {
    "tags": []
   },
   "source": [
    "## Lemmatize words"
   ]
  },
  {
   "cell_type": "code",
   "execution_count": 43,
   "id": "221e0a74",
   "metadata": {},
   "outputs": [
    {
     "name": "stderr",
     "output_type": "stream",
     "text": [
      "[nltk_data] Downloading package wordnet to\n",
      "[nltk_data]     C:\\Users\\wajid\\AppData\\Roaming\\nltk_data...\n",
      "[nltk_data]   Unzipping corpora\\wordnet.zip.\n"
     ]
    },
    {
     "data": {
      "text/plain": [
       "True"
      ]
     },
     "execution_count": 43,
     "metadata": {},
     "output_type": "execute_result"
    }
   ],
   "source": [
    "from nltk.stem import WordNetLemmatizer\n",
    "nltk.download('wordnet')"
   ]
  },
  {
   "cell_type": "code",
   "execution_count": null,
   "id": "c5d200ff",
   "metadata": {},
   "outputs": [],
   "source": [
    "X = X.apply(lambda x: [WordNetLemmatizer().lemmatize(word) for word in x])"
   ]
  },
  {
   "cell_type": "code",
   "execution_count": 58,
   "id": "b6ba107b",
   "metadata": {},
   "outputs": [
    {
     "data": {
      "text/plain": [
       "0         [enough, size, color, fit, true, size, size, s...\n",
       "1         [ordered, shoe, replace, previous, pair, rippe...\n",
       "2         [like, clark, guy, disappoint, fit, great, loo...\n",
       "3         [purchased, annie, peanut, comfortable, shoe, ...\n",
       "4         [favorite, shoe, time, first, bought, denim, w...\n",
       "                                ...                        \n",
       "721089    [bought, shoe, daughter, starting, ballet, cla...\n",
       "721090    [bought, stone, color, gift, bit, taken, back,...\n",
       "721091    [first, like, boot, calf, larger, ordered, lag...\n",
       "721092    [got, mom, couple, week, ago, ca, stop, talkin...\n",
       "721093    [since, buying, item, probably, used, le, twen...\n",
       "Name: Text, Length: 721094, dtype: object"
      ]
     },
     "execution_count": 58,
     "metadata": {},
     "output_type": "execute_result"
    }
   ],
   "source": [
    "X"
   ]
  },
  {
   "cell_type": "markdown",
   "id": "a64a9604",
   "metadata": {},
   "source": [
    "## Use tfidf model to convert text to vectors"
   ]
  },
  {
   "cell_type": "code",
   "execution_count": 59,
   "id": "8d956c94",
   "metadata": {},
   "outputs": [],
   "source": [
    "Tfidf_vect = TfidfVectorizer()\n",
    "X = Tfidf_vect.fit_transform(X.astype(str))"
   ]
  },
  {
   "cell_type": "code",
   "execution_count": 60,
   "id": "f6a79dff",
   "metadata": {},
   "outputs": [
    {
     "data": {
      "text/plain": [
       "TfidfVectorizer()"
      ]
     },
     "execution_count": 60,
     "metadata": {},
     "output_type": "execute_result"
    }
   ],
   "source": [
    "Tfidf_vect"
   ]
  },
  {
   "cell_type": "code",
   "execution_count": 61,
   "id": "612f3e21",
   "metadata": {},
   "outputs": [
    {
     "name": "stdout",
     "output_type": "stream",
     "text": [
      "  (0, 29580)\t0.25711051997346984\n",
      "  (0, 24563)\t0.30332706293909184\n",
      "  (0, 15066)\t0.2107415524373606\n",
      "  (0, 33879)\t0.254220982828287\n",
      "  (0, 32587)\t0.5641820705648622\n",
      "  (0, 17596)\t0.19474218093244056\n",
      "  (0, 21077)\t0.1539011415823728\n",
      "  (0, 29491)\t0.29207719303377805\n",
      "  (0, 6520)\t0.21001548675439066\n",
      "  (0, 30026)\t0.17673960178678652\n",
      "  (0, 34068)\t0.18693315577660094\n",
      "  (0, 12477)\t0.1249174631336427\n",
      "  (0, 6119)\t0.14114266000772113\n",
      "  (0, 29283)\t0.3022866471513337\n",
      "  (0, 10807)\t0.17445845683420066\n",
      "  (1, 3257)\t0.14485324032667218\n",
      "  (1, 20682)\t0.1228501126360612\n",
      "  (1, 15337)\t0.22256114730301174\n",
      "  (1, 28262)\t0.16889335541977346\n",
      "  (1, 30403)\t0.22521012208355976\n",
      "  (1, 29164)\t0.1919126666103073\n",
      "  (1, 3932)\t0.09896166294846681\n",
      "  (1, 29201)\t0.13020503673077732\n",
      "  (1, 30135)\t0.16158304182758218\n",
      "  (1, 20454)\t0.13573738865634988\n",
      "  :\t:\n",
      "  (721093, 1386)\t0.0739480270626443\n",
      "  (721093, 21958)\t0.07939320534959261\n",
      "  (721093, 4559)\t0.061589654413678904\n",
      "  (721093, 4077)\t0.06976310989603601\n",
      "  (721093, 4551)\t0.04616274601924649\n",
      "  (721093, 31589)\t0.09081947035674978\n",
      "  (721093, 1054)\t0.10227905515199431\n",
      "  (721093, 10310)\t0.08911763457413352\n",
      "  (721093, 1533)\t0.0544939612524083\n",
      "  (721093, 29071)\t0.07094879149272956\n",
      "  (721093, 35092)\t0.05895537582295225\n",
      "  (721093, 33434)\t0.18694566236845256\n",
      "  (721093, 21437)\t0.07471863125794204\n",
      "  (721093, 16915)\t0.07045633584201014\n",
      "  (721093, 36855)\t0.05304672432434381\n",
      "  (721093, 3793)\t0.0910063553216976\n",
      "  (721093, 24690)\t0.07169464472607072\n",
      "  (721093, 25245)\t0.06359539203851552\n",
      "  (721093, 16896)\t0.05938350798061175\n",
      "  (721093, 36946)\t0.17305360894529417\n",
      "  (721093, 33243)\t0.04322146092445684\n",
      "  (721093, 35099)\t0.1296549083503062\n",
      "  (721093, 18712)\t0.04610806509592209\n",
      "  (721093, 3932)\t0.04249251557943601\n",
      "  (721093, 29201)\t0.05590790804197283\n"
     ]
    }
   ],
   "source": [
    "print(X)"
   ]
  },
  {
   "cell_type": "code",
   "execution_count": 62,
   "id": "648774ab",
   "metadata": {},
   "outputs": [
    {
     "name": "stdout",
     "output_type": "stream",
     "text": [
      "  (0, 29580)\t0.25711051997346984\n",
      "  (0, 24563)\t0.30332706293909184\n",
      "  (0, 15066)\t0.2107415524373606\n",
      "  (0, 33879)\t0.254220982828287\n",
      "  (0, 32587)\t0.5641820705648622\n",
      "  (0, 17596)\t0.19474218093244056\n",
      "  (0, 21077)\t0.1539011415823728\n",
      "  (0, 29491)\t0.29207719303377805\n",
      "  (0, 6520)\t0.21001548675439066\n",
      "  (0, 30026)\t0.17673960178678652\n",
      "  (0, 34068)\t0.18693315577660094\n",
      "  (0, 12477)\t0.1249174631336427\n",
      "  (0, 6119)\t0.14114266000772113\n",
      "  (0, 29283)\t0.3022866471513337\n",
      "  (0, 10807)\t0.17445845683420066\n",
      "  (1, 3257)\t0.14485324032667218\n",
      "  (1, 20682)\t0.1228501126360612\n",
      "  (1, 15337)\t0.22256114730301174\n",
      "  (1, 28262)\t0.16889335541977346\n",
      "  (1, 30403)\t0.22521012208355976\n",
      "  (1, 29164)\t0.1919126666103073\n",
      "  (1, 3932)\t0.09896166294846681\n",
      "  (1, 29201)\t0.13020503673077732\n",
      "  (1, 30135)\t0.16158304182758218\n",
      "  (1, 20454)\t0.13573738865634988\n",
      "  :\t:\n",
      "  (1, 27608)\t0.16248713872331524\n",
      "  (1, 5719)\t0.2006219332167306\n",
      "  (1, 30032)\t0.1375703584670733\n",
      "  (1, 1642)\t0.1718684455903783\n",
      "  (1, 27127)\t0.47988866674972164\n",
      "  (1, 22856)\t0.23596375367718925\n",
      "  (1, 24574)\t0.1936837437061706\n",
      "  (1, 26540)\t0.17859492195891033\n",
      "  (1, 28777)\t0.10946579010776682\n",
      "  (1, 22250)\t0.11148977151407433\n",
      "  (2, 5015)\t0.23306746079653373\n",
      "  (2, 11539)\t0.5652323087250503\n",
      "  (2, 8203)\t0.2296154024673242\n",
      "  (2, 32947)\t0.18953936341770486\n",
      "  (2, 24584)\t0.158444908514204\n",
      "  (2, 11237)\t0.16171855012404215\n",
      "  (2, 18712)\t0.14241394795181667\n",
      "  (2, 14249)\t0.133024917023002\n",
      "  (2, 9230)\t0.32380485785854435\n",
      "  (2, 14519)\t0.28735300047277684\n",
      "  (2, 18373)\t0.12964749562488737\n",
      "  (2, 3257)\t0.38421940618582445\n",
      "  (2, 5719)\t0.26607219788300074\n",
      "  (2, 28777)\t0.07258878154540643\n",
      "  (2, 12477)\t0.14279583043653385\n"
     ]
    }
   ],
   "source": [
    "print(X[:3])"
   ]
  },
  {
   "cell_type": "markdown",
   "id": "1563212f",
   "metadata": {},
   "source": [
    "## Train test split\n",
    "\n",
    "## Train model on 75% data"
   ]
  },
  {
   "cell_type": "code",
   "execution_count": 63,
   "id": "4cf98988",
   "metadata": {},
   "outputs": [
    {
     "name": "stdout",
     "output_type": "stream",
     "text": [
      "(540820, 37455) (540820,)\n",
      "(180274, 37455) (180274,)\n"
     ]
    }
   ],
   "source": [
    "X_train, X_test, y_train, y_test = train_test_split(X, y_res, test_size=0.25, random_state=25)\n",
    "print(X_train.shape, y_train.shape)\n",
    "print(X_test.shape, y_test.shape)"
   ]
  },
  {
   "cell_type": "code",
   "execution_count": 64,
   "id": "b90e92bb",
   "metadata": {},
   "outputs": [
    {
     "name": "stdout",
     "output_type": "stream",
     "text": [
      "  (0, 21840)\t0.38606462471268815\n",
      "  (0, 9213)\t0.3977943610792127\n",
      "  (0, 9080)\t0.37873709198697864\n",
      "  (0, 7315)\t0.3033418799750171\n",
      "  (0, 16963)\t0.2828538560633609\n",
      "  (0, 14852)\t0.2315218902022557\n",
      "  (0, 18805)\t0.23801926654557404\n",
      "  (0, 21209)\t0.14216284678867594\n",
      "  (0, 36124)\t0.1277484079830592\n",
      "  (0, 25308)\t0.13341060988935355\n",
      "  (0, 390)\t0.18297064755322978\n",
      "  (0, 19308)\t0.16276194178561654\n",
      "  (0, 22856)\t0.26475727827367945\n",
      "  (0, 33879)\t0.24585853502503296\n",
      "  (0, 21077)\t0.1488386552013289\n",
      "  (1, 29861)\t0.20868455194304014\n",
      "  (1, 9950)\t0.20684949283681048\n",
      "  (1, 8923)\t0.16714285352772226\n",
      "  (1, 13961)\t0.20933530968523234\n",
      "  (1, 9944)\t0.3215720336581241\n",
      "  (1, 31042)\t0.16580020701551618\n",
      "  (1, 19832)\t0.15502024785288301\n",
      "  (1, 25392)\t0.1634583059569273\n",
      "  (1, 15291)\t0.1772709219441278\n",
      "  (1, 29607)\t0.17571348707526813\n",
      "  :\t:\n",
      "  (540818, 28777)\t0.11669558431433992\n",
      "  (540819, 27766)\t0.33051055257906475\n",
      "  (540819, 29015)\t0.34886461237891747\n",
      "  (540819, 32001)\t0.30359983075191305\n",
      "  (540819, 516)\t0.2595262757195552\n",
      "  (540819, 524)\t0.2838877616476167\n",
      "  (540819, 29176)\t0.23211521185757894\n",
      "  (540819, 751)\t0.1534600361825442\n",
      "  (540819, 37265)\t0.18535065902969278\n",
      "  (540819, 31769)\t0.15407436799294624\n",
      "  (540819, 10224)\t0.17338120362550846\n",
      "  (540819, 2524)\t0.12799554563781426\n",
      "  (540819, 31170)\t0.17636055200392342\n",
      "  (540819, 35348)\t0.2350320869546163\n",
      "  (540819, 21437)\t0.18935883665480419\n",
      "  (540819, 12874)\t0.19142085709006768\n",
      "  (540819, 3469)\t0.15062502012364268\n",
      "  (540819, 22723)\t0.2406621505636579\n",
      "  (540819, 6244)\t0.0962126439611734\n",
      "  (540819, 14249)\t0.10914756152236874\n",
      "  (540819, 29201)\t0.14168696948000453\n",
      "  (540819, 28777)\t0.11911886399735243\n",
      "  (540819, 21077)\t0.1443494896364668\n",
      "  (540819, 12477)\t0.11716464130561563\n",
      "  (540819, 6119)\t0.1323828447831438\n"
     ]
    }
   ],
   "source": [
    "print(X_train)"
   ]
  },
  {
   "cell_type": "markdown",
   "id": "977dc0ed",
   "metadata": {},
   "source": [
    "## Train at least 4 different machine learning algorithms"
   ]
  },
  {
   "cell_type": "code",
   "execution_count": 65,
   "id": "56d504c0",
   "metadata": {},
   "outputs": [
    {
     "data": {
      "text/plain": [
       "DecisionTreeClassifier(random_state=25)"
      ]
     },
     "execution_count": 65,
     "metadata": {},
     "output_type": "execute_result"
    }
   ],
   "source": [
    "#Decision Tree Classifier.\n",
    "dt_clf=DecisionTreeClassifier(random_state=25)\n",
    "dt_clf.fit(X_train, y_train)"
   ]
  },
  {
   "cell_type": "code",
   "execution_count": 66,
   "id": "12ede1c9",
   "metadata": {},
   "outputs": [],
   "source": [
    "dt_pred = dt_clf.predict(X_test)"
   ]
  },
  {
   "cell_type": "code",
   "execution_count": 67,
   "id": "d9a3329d",
   "metadata": {},
   "outputs": [
    {
     "name": "stdout",
     "output_type": "stream",
     "text": [
      "[[90330     0]\n",
      " [  841 89103]]\n",
      "              precision    recall  f1-score   support\n",
      "\n",
      "    negative       0.99      1.00      1.00     90330\n",
      "    positive       1.00      0.99      1.00     89944\n",
      "\n",
      "    accuracy                           1.00    180274\n",
      "   macro avg       1.00      1.00      1.00    180274\n",
      "weighted avg       1.00      1.00      1.00    180274\n",
      "\n"
     ]
    },
    {
     "data": {
      "text/plain": [
       "100"
      ]
     },
     "execution_count": 67,
     "metadata": {},
     "output_type": "execute_result"
    }
   ],
   "source": [
    "print(confusion_matrix(y_test,dt_pred))\n",
    "print(classification_report(y_test,dt_pred))\n",
    "Decision_Tree_Accuracy = round(accuracy_score(y_test, dt_pred)*100)\n",
    "Decision_Tree_Accuracy"
   ]
  },
  {
   "cell_type": "code",
   "execution_count": 68,
   "id": "08656ba4",
   "metadata": {},
   "outputs": [],
   "source": [
    " clf = RandomForestClassifier(max_depth=2, random_state=0)"
   ]
  },
  {
   "cell_type": "code",
   "execution_count": 69,
   "id": "4cc8ad99",
   "metadata": {},
   "outputs": [
    {
     "data": {
      "text/plain": [
       "array(['negative', 'positive', 'positive', ..., 'positive', 'positive',\n",
       "       'positive'], dtype=object)"
      ]
     },
     "execution_count": 69,
     "metadata": {},
     "output_type": "execute_result"
    }
   ],
   "source": [
    "clf.fit(X_train, y_train)\n",
    "RandomForestClassifier(...)\n",
    "pred = clf.predict(X_test)\n",
    "pred"
   ]
  },
  {
   "cell_type": "code",
   "execution_count": 70,
   "id": "3ba7c702",
   "metadata": {},
   "outputs": [
    {
     "name": "stdout",
     "output_type": "stream",
     "text": [
      "[[73630 16700]\n",
      " [18857 71087]]\n",
      "              precision    recall  f1-score   support\n",
      "\n",
      "    negative       0.80      0.82      0.81     90330\n",
      "    positive       0.81      0.79      0.80     89944\n",
      "\n",
      "    accuracy                           0.80    180274\n",
      "   macro avg       0.80      0.80      0.80    180274\n",
      "weighted avg       0.80      0.80      0.80    180274\n",
      "\n",
      "80\n"
     ]
    }
   ],
   "source": [
    "print(confusion_matrix(y_test,pred))\n",
    "print(classification_report(y_test,pred))\n",
    "Random_Forest_Accuracy = round(accuracy_score(y_test, pred)*100)\n",
    "print(Random_Forest_Accuracy)"
   ]
  },
  {
   "cell_type": "code",
   "execution_count": 72,
   "id": "7cd47ab6",
   "metadata": {},
   "outputs": [],
   "source": [
    "#Logistic regression.\n",
    "lr_model = LogisticRegression(random_state=25)"
   ]
  },
  {
   "cell_type": "code",
   "execution_count": 73,
   "id": "b08f9823",
   "metadata": {},
   "outputs": [
    {
     "data": {
      "text/plain": [
       "LogisticRegression(random_state=25)"
      ]
     },
     "execution_count": 73,
     "metadata": {},
     "output_type": "execute_result"
    }
   ],
   "source": [
    "lr_model.fit(X_train, y_train)"
   ]
  },
  {
   "cell_type": "code",
   "execution_count": 74,
   "id": "4eb7eb35",
   "metadata": {},
   "outputs": [],
   "source": [
    "pred = lr_model.predict(X_test)"
   ]
  },
  {
   "cell_type": "code",
   "execution_count": 75,
   "id": "fd8ff049",
   "metadata": {},
   "outputs": [
    {
     "name": "stdout",
     "output_type": "stream",
     "text": [
      "[[89400   930]\n",
      " [ 2152 87792]]\n",
      "              precision    recall  f1-score   support\n",
      "\n",
      "    negative       0.98      0.99      0.98     90330\n",
      "    positive       0.99      0.98      0.98     89944\n",
      "\n",
      "    accuracy                           0.98    180274\n",
      "   macro avg       0.98      0.98      0.98    180274\n",
      "weighted avg       0.98      0.98      0.98    180274\n",
      "\n",
      "98\n"
     ]
    }
   ],
   "source": [
    "print(confusion_matrix(y_test,pred))\n",
    "print(classification_report(y_test,pred))\n",
    "Logistic_regression_Accuracy = round(accuracy_score(y_test, pred)*100)\n",
    "print(Logistic_regression_Accuracy)"
   ]
  },
  {
   "cell_type": "code",
   "execution_count": 76,
   "id": "eda8e1a6",
   "metadata": {},
   "outputs": [],
   "source": [
    " from sklearn.naive_bayes import MultinomialNB"
   ]
  },
  {
   "cell_type": "code",
   "execution_count": 77,
   "id": "29c14c1a",
   "metadata": {},
   "outputs": [],
   "source": [
    "clf = MultinomialNB()"
   ]
  },
  {
   "cell_type": "code",
   "execution_count": 78,
   "id": "af8522f9",
   "metadata": {},
   "outputs": [
    {
     "data": {
      "text/plain": [
       "MultinomialNB()"
      ]
     },
     "execution_count": 78,
     "metadata": {},
     "output_type": "execute_result"
    }
   ],
   "source": [
    "clf.fit(X_train, y_train)"
   ]
  },
  {
   "cell_type": "code",
   "execution_count": 79,
   "id": "676ff589",
   "metadata": {},
   "outputs": [],
   "source": [
    "pred = clf.predict(X_test)"
   ]
  },
  {
   "cell_type": "code",
   "execution_count": 81,
   "id": "2718e6f6",
   "metadata": {},
   "outputs": [
    {
     "name": "stdout",
     "output_type": "stream",
     "text": [
      "[[83182  7148]\n",
      " [ 4955 84989]]\n",
      "              precision    recall  f1-score   support\n",
      "\n",
      "    negative       0.94      0.92      0.93     90330\n",
      "    positive       0.92      0.94      0.93     89944\n",
      "\n",
      "    accuracy                           0.93    180274\n",
      "   macro avg       0.93      0.93      0.93    180274\n",
      "weighted avg       0.93      0.93      0.93    180274\n",
      "\n",
      "93\n"
     ]
    }
   ],
   "source": [
    "print(confusion_matrix(y_test,pred))\n",
    "print(classification_report(y_test,pred))\n",
    "Multinomial_naive_bayes = round(accuracy_score(y_test, pred)*100)\n",
    "print(Multinomial_naive_bayes)"
   ]
  },
  {
   "cell_type": "markdown",
   "id": "89db78b9",
   "metadata": {},
   "source": [
    "## Create dataframe of all models names and also show its accuracies"
   ]
  },
  {
   "cell_type": "code",
   "execution_count": 82,
   "id": "2fd17ad6",
   "metadata": {},
   "outputs": [
    {
     "data": {
      "text/html": [
       "<div>\n",
       "<style scoped>\n",
       "    .dataframe tbody tr th:only-of-type {\n",
       "        vertical-align: middle;\n",
       "    }\n",
       "\n",
       "    .dataframe tbody tr th {\n",
       "        vertical-align: top;\n",
       "    }\n",
       "\n",
       "    .dataframe thead th {\n",
       "        text-align: right;\n",
       "    }\n",
       "</style>\n",
       "<table border=\"1\" class=\"dataframe\">\n",
       "  <thead>\n",
       "    <tr style=\"text-align: right;\">\n",
       "      <th></th>\n",
       "      <th>Models</th>\n",
       "      <th>Accuracy of Models</th>\n",
       "    </tr>\n",
       "  </thead>\n",
       "  <tbody>\n",
       "    <tr>\n",
       "      <th>0</th>\n",
       "      <td>Decision Tree Classifier</td>\n",
       "      <td>100</td>\n",
       "    </tr>\n",
       "    <tr>\n",
       "      <th>1</th>\n",
       "      <td>Random Forest Accuracy</td>\n",
       "      <td>80</td>\n",
       "    </tr>\n",
       "    <tr>\n",
       "      <th>2</th>\n",
       "      <td>Logistic regression</td>\n",
       "      <td>93</td>\n",
       "    </tr>\n",
       "    <tr>\n",
       "      <th>3</th>\n",
       "      <td>Multinomial naive bayes</td>\n",
       "      <td>93</td>\n",
       "    </tr>\n",
       "  </tbody>\n",
       "</table>\n",
       "</div>"
      ],
      "text/plain": [
       "                     Models  Accuracy of Models\n",
       "0  Decision Tree Classifier                 100\n",
       "1    Random Forest Accuracy                  80\n",
       "2       Logistic regression                  93\n",
       "3   Multinomial naive bayes                  93"
      ]
     },
     "metadata": {},
     "output_type": "display_data"
    }
   ],
   "source": [
    "data = {'Models': ['Decision Tree Classifier', 'Random Forest Accuracy', 'Logistic regression', 'Multinomial naive bayes'], 'Accuracy of Models': [Decision_Tree_Accuracy, Random_Forest_Accuracy, Logistic_regression_Accuracy,  Multinomial_naive_bayes]}\n",
    "dt = pd.DataFrame(data)\n",
    "display(dt)"
   ]
  },
  {
   "cell_type": "markdown",
   "id": "6f0679a1",
   "metadata": {},
   "source": [
    "## Show all models results on bar plot"
   ]
  },
  {
   "cell_type": "code",
   "execution_count": 83,
   "id": "e5cec8c7",
   "metadata": {},
   "outputs": [
    {
     "data": {
      "image/png": "[encoded data removed]",
      "text/plain": [
       "<Figure size 720x360 with 1 Axes>"
      ]
     },
     "metadata": {
      "needs_background": "light"
     },
     "output_type": "display_data"
    }
   ],
   "source": [
    "#Create barplot on the above dataframe.\n",
    "dt.plot(x='Models', y='Accuracy of Models', kind='bar', color = ['red', 'green', 'blue', 'yellow'], figsize = (10, 5),legend=None)\n",
    "plt.show()"
   ]
  },
  {
   "cell_type": "code",
   "execution_count": null,
   "id": "072eaa93",
   "metadata": {},
   "outputs": [],
   "source": []
  }
 ],
 "metadata": {
  "kernelspec": {
   "display_name": "Python 3 (ipykernel)",
   "language": "python",
   "name": "python3"
  },
  "language_info": {
   "codemirror_mode": {
    "name": "ipython",
    "version": 3
   },
   "file_extension": ".py",
   "mimetype": "text/x-python",
   "name": "python",
   "nbconvert_exporter": "python",
   "pygments_lexer": "ipython3",
   "version": "3.9.7"
  }
 },
 "nbformat": 4,
 "nbformat_minor": 5
}
