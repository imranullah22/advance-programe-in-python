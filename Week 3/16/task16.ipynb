{
 "cells": [
  {
   "cell_type": "code",
   "execution_count": 8,
   "id": "d890a889",
   "metadata": {},
   "outputs": [],
   "source": [
    "import pandas as pd\n"
   ]
  },
  {
   "cell_type": "code",
   "execution_count": 9,
   "id": "2acf2332",
   "metadata": {},
   "outputs": [],
   "source": [
    "list = [\"loin\", \"tiger\", \"cat\",\"dog\",\"monky\"]"
   ]
  },
  {
   "cell_type": "code",
   "execution_count": 10,
   "id": "0f7d8f5c",
   "metadata": {},
   "outputs": [
    {
     "name": "stdout",
     "output_type": "stream",
     "text": [
      "0     loin\n",
      "1    tiger\n",
      "2      cat\n",
      "3      dog\n",
      "4    monky\n",
      "dtype: object\n"
     ]
    }
   ],
   "source": [
    "myvar = pd.Series(list)\n",
    "\n",
    "print(myvar)"
   ]
  },
  {
   "cell_type": "code",
   "execution_count": 19,
   "id": "52c8d64e",
   "metadata": {},
   "outputs": [],
   "source": [
    "no = [1, 7, 2,]\n"
   ]
  },
  {
   "cell_type": "code",
   "execution_count": 21,
   "id": "73de2a29",
   "metadata": {},
   "outputs": [
    {
     "name": "stdout",
     "output_type": "stream",
     "text": [
      "      0\n",
      "1     1\n",
      "2     7\n",
      "none  2\n"
     ]
    }
   ],
   "source": [
    "myvar = pd.Series(no)\n",
    "\n",
    "df = pd.DataFrame(no, index = [\"1\", \"2\", \"none\"])\n",
    "\n",
    "print(df) \n"
   ]
  },
  {
   "cell_type": "code",
   "execution_count": 26,
   "id": "d4a94f58",
   "metadata": {},
   "outputs": [
    {
     "name": "stdout",
     "output_type": "stream",
     "text": [
      "          name  won match\n",
      "1     Pakistan          5\n",
      "2        India          3\n",
      "3    Australia          2\n",
      "4      Germany          2\n",
      "5  Netherlands          1\n"
     ]
    }
   ],
   "source": [
    "import pandas as pd\n",
    "\n",
    "data = {\n",
    "  \n",
    "  \"name\": [\"Pakistan\",\"India\", \"Australia\",\"Germany\",\"Netherlands\"],\n",
    "  \"won match\":[5,3,2,2,1],\n",
    "  \n",
    " \n",
    " \n",
    "}\n",
    "\n",
    "#load data into a DataFrame object:\n",
    "df = pd.DataFrame(data, index = [\"1\", \"2\", \"3\",\"4\",\"5\"])\n",
    "\n",
    "print(df) "
   ]
  }
 ],
 "metadata": {
  "kernelspec": {
   "display_name": "Python 3",
   "language": "python",
   "name": "python3"
  },
  "language_info": {
   "codemirror_mode": {
    "name": "ipython",
    "version": 3
   },
   "file_extension": ".py",
   "mimetype": "text/x-python",
   "name": "python",
   "nbconvert_exporter": "python",
   "pygments_lexer": "ipython3",
   "version": "3.8.8"
  }
 },
 "nbformat": 4,
 "nbformat_minor": 5
}
