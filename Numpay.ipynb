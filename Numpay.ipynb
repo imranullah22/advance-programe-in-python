{
 "cells": [
  {
   "cell_type": "code",
   "execution_count": 1,
   "id": "58917106-d713-4d81-8617-2f70801a6633",
   "metadata": {},
   "outputs": [],
   "source": [
    "import numpy as np"
   ]
  },
  {
   "cell_type": "code",
   "execution_count": 4,
   "id": "30a7fc99-0893-4bb6-8429-561bcf7a54c6",
   "metadata": {},
   "outputs": [
    {
     "name": "stdout",
     "output_type": "stream",
     "text": [
      "[[ 1  4]\n",
      " [ 9 16]\n",
      " [25 36]]\n"
     ]
    }
   ],
   "source": [
    "a = np.array([[1,4],[9,16],[25,36]])\n",
    "print(a)"
   ]
  },
  {
   "cell_type": "code",
   "execution_count": 6,
   "id": "4e66aff7-980c-4298-8c81-c80da322afe1",
   "metadata": {},
   "outputs": [
    {
     "name": "stdout",
     "output_type": "stream",
     "text": [
      "[[1. 2.]\n",
      " [3. 4.]\n",
      " [5. 6.]]\n"
     ]
    }
   ],
   "source": [
    "print(np.sqrt(a))"
   ]
  },
  {
   "cell_type": "code",
   "execution_count": 7,
   "id": "eb2affcb-8576-4957-b4a8-674ae8045442",
   "metadata": {},
   "outputs": [
    {
     "name": "stdout",
     "output_type": "stream",
     "text": [
      "[[2.71828183e+00 5.45981500e+01]\n",
      " [8.10308393e+03 8.88611052e+06]\n",
      " [7.20048993e+10 4.31123155e+15]]\n"
     ]
    }
   ],
   "source": [
    "print(np.exp(a))"
   ]
  },
  {
   "cell_type": "code",
   "execution_count": 11,
   "id": "0b0125ce-24eb-4009-86eb-1b1735b50710",
   "metadata": {},
   "outputs": [
    {
     "name": "stdout",
     "output_type": "stream",
     "text": [
      "[[1 4]\n",
      " [None 16]\n",
      " [25 36]]\n"
     ]
    }
   ],
   "source": [
    "b = np.array([[1,4],[None,16],[25,36]])\n",
    "print(b)"
   ]
  },
  {
   "cell_type": "code",
   "execution_count": 14,
   "id": "0bf4df8c-e325-4925-8173-8a77b8ab643d",
   "metadata": {},
   "outputs": [],
   "source": [
    "import pandas as pd"
   ]
  },
  {
   "cell_type": "code",
   "execution_count": 19,
   "id": "6a539846-cfbd-47ad-a654-6f283994594e",
   "metadata": {},
   "outputs": [],
   "source": [
    "data= pd.read_csv('Lemonade.csv')\n",
    "data = np.array(data)"
   ]
  },
  {
   "cell_type": "code",
   "execution_count": 22,
   "id": "3fa775d6-424c-49aa-9df6-9767fdb1802e",
   "metadata": {},
   "outputs": [
    {
     "name": "stdout",
     "output_type": "stream",
     "text": [
      "15\n"
     ]
    }
   ],
   "source": [
    "print(data[2,-1])"
   ]
  },
  {
   "cell_type": "code",
   "execution_count": 28,
   "id": "faadce17-21d7-40b6-b9d3-d1d6167bb1ce",
   "metadata": {},
   "outputs": [
    {
     "name": "stdout",
     "output_type": "stream",
     "text": [
      "[1 2 3 4 5 6 7 8 9]\n"
     ]
    }
   ],
   "source": [
    "b=np.array([1,2,3,4,5,6,7,8,9])\n",
    "print(b)"
   ]
  },
  {
   "cell_type": "code",
   "execution_count": 50,
   "id": "595301d2-ea3d-4d15-8dda-532bb85441ab",
   "metadata": {},
   "outputs": [
    {
     "name": "stdout",
     "output_type": "stream",
     "text": [
      "[9 8 7 6 5]\n"
     ]
    }
   ],
   "source": [
    "c=b[9:3:-1]\n",
    "print(c)"
   ]
  },
  {
   "cell_type": "code",
   "execution_count": null,
   "id": "39a7008d-e998-40aa-9d1e-99b62bb8685c",
   "metadata": {},
   "outputs": [],
   "source": []
  }
 ],
 "metadata": {
  "kernelspec": {
   "display_name": "Python 3",
   "language": "python",
   "name": "python3"
  },
  "language_info": {
   "codemirror_mode": {
    "name": "ipython",
    "version": 3
   },
   "file_extension": ".py",
   "mimetype": "text/x-python",
   "name": "python",
   "nbconvert_exporter": "python",
   "pygments_lexer": "ipython3",
   "version": "3.8.8"
  }
 },
 "nbformat": 4,
 "nbformat_minor": 5
}
