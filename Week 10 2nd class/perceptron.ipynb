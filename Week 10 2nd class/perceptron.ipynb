{
 "cells": [
  {
   "cell_type": "code",
   "execution_count": 10,
   "id": "c516eddd",
   "metadata": {},
   "outputs": [],
   "source": [
    "a = 2\n",
    "b = 0.3\n",
    "w1 = 0.1\n",
    "w2 = 0.2"
   ]
  },
  {
   "cell_type": "code",
   "execution_count": 11,
   "id": "08c70045",
   "metadata": {},
   "outputs": [],
   "source": [
    "x = (a * w1) + (b * w2)"
   ]
  },
  {
   "cell_type": "code",
   "execution_count": 12,
   "id": "0720e679",
   "metadata": {},
   "outputs": [
    {
     "name": "stdout",
     "output_type": "stream",
     "text": [
      "No\n"
     ]
    }
   ],
   "source": [
    "if x > 0.5:\n",
    "    print(\"Yes\")\n",
    "else:\n",
    "    print(\"No\")"
   ]
  },
  {
   "cell_type": "code",
   "execution_count": null,
   "id": "4d84fa3c",
   "metadata": {},
   "outputs": [],
   "source": []
  }
 ],
 "metadata": {
  "kernelspec": {
   "display_name": "Python 3",
   "language": "python",
   "name": "python3"
  },
  "language_info": {
   "codemirror_mode": {
    "name": "ipython",
    "version": 3
   },
   "file_extension": ".py",
   "mimetype": "text/x-python",
   "name": "python",
   "nbconvert_exporter": "python",
   "pygments_lexer": "ipython3",
   "version": "3.8.8"
  }
 },
 "nbformat": 4,
 "nbformat_minor": 5
}
