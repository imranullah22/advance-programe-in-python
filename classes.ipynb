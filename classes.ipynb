{
 "cells": [
  {
   "cell_type": "code",
   "execution_count": 40,
   "id": "painted-hands",
   "metadata": {},
   "outputs": [],
   "source": [
    "class Encapsulation:\n",
    "    #Default Constructor \n",
    "    def __init__(self):\n",
    "        #intiallizing variables\n",
    "        self.k = 0\n",
    "        self._m  = 0\n",
    "        self.__n = 0\n",
    "        \n",
    "    #Set K Functions\n",
    "    def set_k(self, a):\n",
    "        self.k=a\n",
    "        \n",
    "        \n",
    "    #Set M function \n",
    "    def set_m(self, a):\n",
    "        self._m=a\n",
    "        \n",
    "        \n",
    "    #Set N function \n",
    "    def set_n(self, a):\n",
    "        self.__n=a\n",
    "        \n",
    "    #Get k Funcitons\n",
    "    def get_k(self):\n",
    "        return self.k\n",
    "    \n",
    "    \n",
    "    #get m fucntion\n",
    "    def get_m(self):\n",
    "        return self._m\n",
    "    #get N fucntion\n",
    "    def get_n(self):\n",
    "        return self.__n\n",
    "    "
   ]
  },
  {
   "cell_type": "code",
   "execution_count": 41,
   "id": "constitutional-magazine",
   "metadata": {
    "tags": []
   },
   "outputs": [],
   "source": [
    "x=Encapsulation()"
   ]
  },
  {
   "cell_type": "code",
   "execution_count": 26,
   "id": "atmospheric-summer",
   "metadata": {},
   "outputs": [
    {
     "name": "stdout",
     "output_type": "stream",
     "text": [
      "0\n",
      "0\n"
     ]
    }
   ],
   "source": [
    "\n",
    "\n"
   ]
  },
  {
   "cell_type": "code",
   "execution_count": 42,
   "id": "appointed-nutrition",
   "metadata": {},
   "outputs": [],
   "source": [
    "x.set_n(11)"
   ]
  },
  {
   "cell_type": "code",
   "execution_count": 43,
   "id": "91a4c315-87f4-456c-a3cf-73c0be2a1690",
   "metadata": {},
   "outputs": [
    {
     "name": "stdout",
     "output_type": "stream",
     "text": [
      "11\n"
     ]
    }
   ],
   "source": [
    "\n",
    "print(x.get_n())\n"
   ]
  },
  {
   "cell_type": "code",
   "execution_count": null,
   "id": "35372265-f55c-4692-a00c-1680d146f3c5",
   "metadata": {},
   "outputs": [],
   "source": []
  }
 ],
 "metadata": {
  "kernelspec": {
   "display_name": "Python 3",
   "language": "python",
   "name": "python3"
  },
  "language_info": {
   "codemirror_mode": {
    "name": "ipython",
    "version": 3
   },
   "file_extension": ".py",
   "mimetype": "text/x-python",
   "name": "python",
   "nbconvert_exporter": "python",
   "pygments_lexer": "ipython3",
   "version": "3.8.8"
  }
 },
 "nbformat": 4,
 "nbformat_minor": 5
}
