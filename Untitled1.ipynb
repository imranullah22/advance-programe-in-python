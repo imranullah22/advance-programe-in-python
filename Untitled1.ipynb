{
 "cells": [
  {
   "cell_type": "code",
   "execution_count": 7,
   "id": "5a95103d-e0fc-458f-8c51-c28467599c49",
   "metadata": {},
   "outputs": [],
   "source": [
    "class BankAccount():\n",
    "    def __init__(self):\n",
    "        self.__AccountNumber=\"\"\n",
    "        self.Name=\"\"\n",
    "        self.__Balance=0.0\n",
    "        self.__Pincode=0\n",
    "        \n",
    "    def setAccountNumber(self,a):\n",
    "        self.__AccountNumber=a\n",
    "    def getAccountNumber(self):\n",
    "        return self.__AccountNumber\n",
    "    \n",
    "    \n",
    "    def setName(self,n):\n",
    "        self.Name=n\n",
    "    def getName(self):\n",
    "        return self.Name\n",
    "    \n",
    "    \n",
    "    def setBalance(self,b):\n",
    "        self.__Balance=b\n",
    "    def getBalance(self):\n",
    "        return self.__Balance\n",
    "    \n",
    "    \n",
    "    def setPincode(self,p):\n",
    "        self.__Pincode=p\n",
    "    def getPincode(self):\n",
    "        return self.__Pincode\n",
    "    \n",
    "    \n",
    "     #function for Display\n",
    "    def Display(self,AccountNo,Pin):\n",
    "        if (self.__AccountNumber==AccountNo and self.__Pincode==Pin):\n",
    "            print(\"AccountNumber \",self.__AccountNumber)\n",
    "            print(\"Name :\",self.Name)\n",
    "            print(\"Balance :\",self.__Balance)\n",
    "        else :\n",
    "             print(\"wrong credentials and Deposit failed\")\n",
    "  \n",
    "\n",
    " #function for deposit\n",
    "    def Deposit(self,AccountNum,pincode,Amount):\n",
    "        if (self.__AccountNumber==AccountNum and self.__Pincode==pincode):\n",
    "            self.__Balance=self.__Balance+Amount\n",
    "            print(\"Deposit successfully\")\n",
    "        else:\n",
    "            print(\"wrong Pincode and Deposit failed\")\n",
    "            \n",
    "        \n",
    "        \n",
    "        \n",
    " #function for withdraw\n",
    "    def Withdraw(self,AccountNumber,Pincode,WithdrawAmount):\n",
    "        if (self.__AccountNumber==AccountNumber and self.__Pincode==Pincode):\n",
    "            if(self.__Balance > WithdrawAmount):\n",
    "                self.__Balance-=WithdrawAmount\n",
    "                return self.Display(self.__AccountNumber,self.__Pincode)\n",
    "        else:\n",
    "            print(\"worng Pincode\")\n",
    "       \n"
   ]
  },
  {
   "cell_type": "code",
   "execution_count": 11,
   "id": "0822c6b8-9dff-4bc1-a19c-7cd95af8ede9",
   "metadata": {},
   "outputs": [
    {
     "name": "stdout",
     "output_type": "stream",
     "text": [
      "press 1 to create bank account\n",
      "press 2 to close bank account\n",
      "press 3 to deposit money in bank account\n",
      "press 4 to withdraw money in bank account\n",
      "press 5 to display summary of bank account\n",
      "press 6 to exit\n"
     ]
    },
    {
     "name": "stdin",
     "output_type": "stream",
     "text": [
      " 1\n",
      "Enter Account Number :  1234\n",
      "Enter your name :  haseeb\n",
      "Enter pin code :  1111\n",
      "Enter initial deposit :  5000\n"
     ]
    },
    {
     "name": "stdout",
     "output_type": "stream",
     "text": [
      "account created successfully\n",
      "press 1 to create bank account\n",
      "press 2 to close bank account\n",
      "press 3 to deposit money in bank account\n",
      "press 4 to withdraw money in bank account\n",
      "press 5 to display summary of bank account\n",
      "press 6 to exit\n"
     ]
    },
    {
     "name": "stdin",
     "output_type": "stream",
     "text": [
      " 1\n",
      "Enter Account Number :  12345\n",
      "Enter your name :  major\n",
      "Enter pin code :  2222\n",
      "Enter initial deposit :  5000\n"
     ]
    },
    {
     "name": "stdout",
     "output_type": "stream",
     "text": [
      "account created successfully\n",
      "press 1 to create bank account\n",
      "press 2 to close bank account\n",
      "press 3 to deposit money in bank account\n",
      "press 4 to withdraw money in bank account\n",
      "press 5 to display summary of bank account\n",
      "press 6 to exit\n"
     ]
    },
    {
     "name": "stdin",
     "output_type": "stream",
     "text": [
      " 1\n",
      "Enter Account Number :  123456\n",
      "Enter your name :  imran\n",
      "Enter pin code :  3333\n",
      "Enter initial deposit :  5000\n"
     ]
    },
    {
     "name": "stdout",
     "output_type": "stream",
     "text": [
      "account created successfully\n",
      "press 1 to create bank account\n",
      "press 2 to close bank account\n",
      "press 3 to deposit money in bank account\n",
      "press 4 to withdraw money in bank account\n",
      "press 5 to display summary of bank account\n",
      "press 6 to exit\n"
     ]
    },
    {
     "name": "stdin",
     "output_type": "stream",
     "text": [
      " 3\n",
      "Enter Account Number :  12345\n",
      "Enter pin code :  2222\n",
      "Enter deposit amount 5000\n"
     ]
    },
    {
     "name": "stdout",
     "output_type": "stream",
     "text": [
      "press 1 to create bank account\n",
      "press 2 to close bank account\n",
      "press 3 to deposit money in bank account\n",
      "press 4 to withdraw money in bank account\n",
      "press 5 to display summary of bank account\n",
      "press 6 to exit\n"
     ]
    },
    {
     "name": "stdin",
     "output_type": "stream",
     "text": [
      " 5\n",
      "Enter Account Number :  12345\n",
      "Enter pin code :  2222\n"
     ]
    },
    {
     "name": "stdout",
     "output_type": "stream",
     "text": [
      "AccountNumber  12345\n",
      "Name : major\n",
      "Balance : 50005000\n",
      "press 1 to create bank account\n",
      "press 2 to close bank account\n",
      "press 3 to deposit money in bank account\n",
      "press 4 to withdraw money in bank account\n",
      "press 5 to display summary of bank account\n",
      "press 6 to exit\n"
     ]
    },
    {
     "name": "stdin",
     "output_type": "stream",
     "text": [
      " 4\n",
      "Enter Account Number :  1234\n",
      "Enter pin code :  1111\n",
      "Enter withdraw amount 3000\n"
     ]
    },
    {
     "ename": "TypeError",
     "evalue": "unsupported operand type(s) for -=: 'str' and 'str'",
     "output_type": "error",
     "traceback": [
      "\u001b[1;31m---------------------------------------------------------------------------\u001b[0m",
      "\u001b[1;31mTypeError\u001b[0m                                 Traceback (most recent call last)",
      "\u001b[1;32m<ipython-input-11-284cca937514>\u001b[0m in \u001b[0;36m<module>\u001b[1;34m\u001b[0m\n\u001b[0;32m     40\u001b[0m             \u001b[1;32mif\u001b[0m\u001b[1;33m(\u001b[0m\u001b[0maccount\u001b[0m\u001b[1;33m.\u001b[0m\u001b[0mgetAccountNumber\u001b[0m\u001b[1;33m(\u001b[0m\u001b[1;33m)\u001b[0m\u001b[1;33m==\u001b[0m\u001b[0macc\u001b[0m \u001b[1;32mand\u001b[0m \u001b[0maccount\u001b[0m\u001b[1;33m.\u001b[0m\u001b[0mgetPincode\u001b[0m\u001b[1;33m(\u001b[0m\u001b[1;33m)\u001b[0m\u001b[1;33m==\u001b[0m\u001b[0mpincode\u001b[0m\u001b[1;33m)\u001b[0m\u001b[1;33m:\u001b[0m\u001b[1;33m\u001b[0m\u001b[1;33m\u001b[0m\u001b[0m\n\u001b[0;32m     41\u001b[0m                 \u001b[0mamount\u001b[0m\u001b[1;33m=\u001b[0m\u001b[0minput\u001b[0m\u001b[1;33m(\u001b[0m\u001b[1;34m\"Enter withdraw amount\"\u001b[0m\u001b[1;33m)\u001b[0m\u001b[1;33m\u001b[0m\u001b[1;33m\u001b[0m\u001b[0m\n\u001b[1;32m---> 42\u001b[1;33m                 \u001b[0maccount\u001b[0m\u001b[1;33m.\u001b[0m\u001b[0mWithdraw\u001b[0m\u001b[1;33m(\u001b[0m\u001b[0macc\u001b[0m\u001b[1;33m,\u001b[0m\u001b[0mpincode\u001b[0m\u001b[1;33m,\u001b[0m\u001b[0mamount\u001b[0m\u001b[1;33m)\u001b[0m\u001b[1;33m\u001b[0m\u001b[1;33m\u001b[0m\u001b[0m\n\u001b[0m\u001b[0;32m     43\u001b[0m     \u001b[1;32melif\u001b[0m\u001b[1;33m(\u001b[0m\u001b[0mi\u001b[0m\u001b[1;33m==\u001b[0m\u001b[1;36m5\u001b[0m\u001b[1;33m)\u001b[0m\u001b[1;33m:\u001b[0m\u001b[1;33m\u001b[0m\u001b[1;33m\u001b[0m\u001b[0m\n\u001b[0;32m     44\u001b[0m         \u001b[0macc\u001b[0m\u001b[1;33m=\u001b[0m\u001b[0minput\u001b[0m\u001b[1;33m(\u001b[0m\u001b[1;34m\"Enter Account Number : \"\u001b[0m\u001b[1;33m)\u001b[0m\u001b[1;33m\u001b[0m\u001b[1;33m\u001b[0m\u001b[0m\n",
      "\u001b[1;32m<ipython-input-7-2b0e33822ff1>\u001b[0m in \u001b[0;36mWithdraw\u001b[1;34m(self, AccountNumber, Pincode, WithdrawAmount)\u001b[0m\n\u001b[0;32m     54\u001b[0m         \u001b[1;32mif\u001b[0m \u001b[1;33m(\u001b[0m\u001b[0mself\u001b[0m\u001b[1;33m.\u001b[0m\u001b[0m__AccountNumber\u001b[0m\u001b[1;33m==\u001b[0m\u001b[0mAccountNumber\u001b[0m \u001b[1;32mand\u001b[0m \u001b[0mself\u001b[0m\u001b[1;33m.\u001b[0m\u001b[0m__Pincode\u001b[0m\u001b[1;33m==\u001b[0m\u001b[0mPincode\u001b[0m\u001b[1;33m)\u001b[0m\u001b[1;33m:\u001b[0m\u001b[1;33m\u001b[0m\u001b[1;33m\u001b[0m\u001b[0m\n\u001b[0;32m     55\u001b[0m             \u001b[1;32mif\u001b[0m\u001b[1;33m(\u001b[0m\u001b[0mself\u001b[0m\u001b[1;33m.\u001b[0m\u001b[0m__Balance\u001b[0m \u001b[1;33m>\u001b[0m \u001b[0mWithdrawAmount\u001b[0m\u001b[1;33m)\u001b[0m\u001b[1;33m:\u001b[0m\u001b[1;33m\u001b[0m\u001b[1;33m\u001b[0m\u001b[0m\n\u001b[1;32m---> 56\u001b[1;33m                 \u001b[0mself\u001b[0m\u001b[1;33m.\u001b[0m\u001b[0m__Balance\u001b[0m\u001b[1;33m-=\u001b[0m\u001b[0mWithdrawAmount\u001b[0m\u001b[1;33m\u001b[0m\u001b[1;33m\u001b[0m\u001b[0m\n\u001b[0m\u001b[0;32m     57\u001b[0m                 \u001b[1;32mreturn\u001b[0m \u001b[0mself\u001b[0m\u001b[1;33m.\u001b[0m\u001b[0mDisplay\u001b[0m\u001b[1;33m(\u001b[0m\u001b[0mself\u001b[0m\u001b[1;33m.\u001b[0m\u001b[0m__AccountNumber\u001b[0m\u001b[1;33m,\u001b[0m\u001b[0mself\u001b[0m\u001b[1;33m.\u001b[0m\u001b[0m__Pincode\u001b[0m\u001b[1;33m)\u001b[0m\u001b[1;33m\u001b[0m\u001b[1;33m\u001b[0m\u001b[0m\n\u001b[0;32m     58\u001b[0m         \u001b[1;32melse\u001b[0m\u001b[1;33m:\u001b[0m\u001b[1;33m\u001b[0m\u001b[1;33m\u001b[0m\u001b[0m\n",
      "\u001b[1;31mTypeError\u001b[0m: unsupported operand type(s) for -=: 'str' and 'str'"
     ]
    }
   ],
   "source": [
    "A =[]\n",
    "while(1):\n",
    "    print(\"press 1 to create bank account\")\n",
    "    print(\"press 2 to close bank account\")\n",
    "    print(\"press 3 to deposit money in bank account\")\n",
    "    print(\"press 4 to withdraw money in bank account\")\n",
    "    print(\"press 5 to display summary of bank account\")\n",
    "    print(\"press 6 to exit\")\n",
    "    i=int(input())\n",
    "    if(i==1):\n",
    "        B=BankAccount()\n",
    "        acc=input(\"Enter Account Number : \")\n",
    "        name=input(\"Enter your name : \")\n",
    "        pincode=input(\"Enter pin code : \")\n",
    "        b=input(\"Enter initial deposit : \")\n",
    "        B.setAccountNumber(acc)\n",
    "        B.setName(name)\n",
    "        B.setBalance(b)\n",
    "        B.setPincode(pincode)\n",
    "        A.append(B)\n",
    "        print(\"account created successfully\")\n",
    "    elif(i==2):\n",
    "         acc=input(\"Enter Account Number : \")\n",
    "         pincode=input(\"Enter pin code : \")\n",
    "         for account in A:\n",
    "            if(account.getAccountNumber()==acc and account.getPincode()==pincode):\n",
    "                A.remove(account)\n",
    "                print(\"account closed successfully\")\n",
    "    elif(i==3):\n",
    "        acc=input(\"Enter Account Number : \")\n",
    "        pincode=input(\"Enter pin code : \")\n",
    "        for account in A:\n",
    "            if(account.getAccountNumber()==acc and account.getPincode()==pincode):\n",
    "                amount=input(\"Enter deposit amount\")\n",
    "                account.Deposit(acc,pincode,amount) \n",
    "    elif(i==4):\n",
    "        acc=input(\"Enter Account Number : \")\n",
    "        pincode=input(\"Enter pin code : \")\n",
    "        for account in A:\n",
    "            if(account.getAccountNumber()==acc and account.getPincode()==pincode):\n",
    "                amount=input(\"Enter withdraw amount\")\n",
    "                account.Withdraw(acc,pincode,amount)\n",
    "    elif(i==5):\n",
    "        acc=input(\"Enter Account Number : \")\n",
    "        pincode=input(\"Enter pin code : \")\n",
    "        for account in A:\n",
    "            if(account.getAccountNumber()==acc and account.getPincode()==pincode):\n",
    "                account.Display(acc,pincode)\n",
    "    else:\n",
    "        print(\"6 is pressed\")\n",
    "        break;\n",
    "    \n",
    "\n"
   ]
  },
  {
   "cell_type": "code",
   "execution_count": null,
   "id": "17b65309-32ae-4319-a170-0091cfec4ad2",
   "metadata": {},
   "outputs": [],
   "source": [
    "\n",
    "\n"
   ]
  },
  {
   "cell_type": "code",
   "execution_count": null,
   "id": "617b2fb1-d7fb-40c9-b0ba-c034f5bfb0c6",
   "metadata": {},
   "outputs": [],
   "source": []
  }
 ],
 "metadata": {
  "kernelspec": {
   "display_name": "Python 3",
   "language": "python",
   "name": "python3"
  },
  "language_info": {
   "codemirror_mode": {
    "name": "ipython",
    "version": 3
   },
   "file_extension": ".py",
   "mimetype": "text/x-python",
   "name": "python",
   "nbconvert_exporter": "python",
   "pygments_lexer": "ipython3",
   "version": "3.8.8"
  }
 },
 "nbformat": 4,
 "nbformat_minor": 5
}
