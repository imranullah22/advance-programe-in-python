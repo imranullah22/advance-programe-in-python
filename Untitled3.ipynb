{
 "cells": [
  {
   "cell_type": "code",
   "execution_count": 26,
   "id": "e598bb96-cc0e-4dad-9385-4c039d468afe",
   "metadata": {},
   "outputs": [],
   "source": [
    "def force(m, a):\n",
    "    print(m)\n",
    "    print(a)\n",
    "    str=a+m\n",
    "    print(str)\n",
    "    return str"
   ]
  },
  {
   "cell_type": "code",
   "execution_count": 27,
   "id": "bd3628d1-af0a-4d7e-b551-6fe9beb97017",
   "metadata": {},
   "outputs": [],
   "source": [
    "a=\"python\"\n",
    "m=\"advanced programming in\"\n",
    "f= map(force, m, a)\n",
    "print(list(f))"
   ]
  },
  {
   "cell_type": "code",
   "execution_count": null,
   "id": "f56fb32d-a6ae-4790-a380-8bfe29d40b73",
   "metadata": {},
   "outputs": [],
   "source": []
  },
  {
   "cell_type": "code",
   "execution_count": null,
   "id": "e9bf7986-d1e8-4b34-88aa-e9ea419029ef",
   "metadata": {},
   "outputs": [],
   "source": []
  },
  {
   "cell_type": "code",
   "execution_count": null,
   "id": "f4d667e1-fe10-4672-9723-1a50ef966992",
   "metadata": {},
   "outputs": [],
   "source": []
  }
 ],
 "metadata": {
  "kernelspec": {
   "display_name": "Python 3",
   "language": "python",
   "name": "python3"
  },
  "language_info": {
   "codemirror_mode": {
    "name": "ipython",
    "version": 3
   },
   "file_extension": ".py",
   "mimetype": "text/x-python",
   "name": "python",
   "nbconvert_exporter": "python",
   "pygments_lexer": "ipython3",
   "version": "3.8.8"
  }
 },
 "nbformat": 4,
 "nbformat_minor": 5
}
