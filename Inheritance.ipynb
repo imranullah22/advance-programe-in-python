{
 "cells": [
  {
   "cell_type": "code",
   "execution_count": 32,
   "id": "816162aa-1b26-4e96-ac61-82209cfbdc90",
   "metadata": {
    "tags": []
   },
   "outputs": [],
   "source": [
    "\n",
    "class Person(object):\n",
    "\n",
    "    #Constructor \n",
    "    def __init__(self):\n",
    "        self.name = \"\"\n",
    "        self.age=0\n",
    "        self.cnic=\"\"\n",
    "        self.address=\"\"\n",
    "        self.mobileNumber=\"\"\n",
    "    \n",
    "    #Get And Set function of Variable Name\n",
    "    def setName(self,n):\n",
    "        self.name=n\n",
    "    def getName(self):\n",
    "        return self.name\n",
    "    \n",
    "    #Get And Set Function of Variable age\n",
    "    def setAge(self, a):\n",
    "        self.age=a\n",
    "    def getAge(self):\n",
    "        return self.age\n",
    "    \n",
    "    #Get And Set Function of Variable Cnic\n",
    "    def setCnic(self, b):\n",
    "        self.cnic=b\n",
    "    def getCnic(self):\n",
    "        return self.cnic\n",
    "    \n",
    "    \n",
    "    \n",
    "   "
   ]
  },
  {
   "cell_type": "code",
   "execution_count": 33,
   "id": "c3ba115a-ec66-4c3d-87b6-b7df225cbf8b",
   "metadata": {},
   "outputs": [],
   "source": [
    "class Employee(Person):\n",
    "    \n",
    "    def _init_(self):\n",
    "        self.Designation=\"\"\n",
    "        self.salary=0\n",
    "        self.department=\"\"\n",
    "        \n",
    "        \n",
    "    #Get and Set Function of Designation\n",
    "    def setDesignation(self, a):\n",
    "        self.Designation=a\n",
    "    def getDesignation(self):\n",
    "        return self.Designation\n",
    "    \n",
    "    #Get and Set Function of Salary\n",
    "    def setSalary(self, b):\n",
    "        self.salary=b\n",
    "    def getSalary(self):\n",
    "        return self.salary\n",
    "    \n",
    "    #Get and Set Function of department\n",
    "    def setDepartment(self, c):\n",
    "        self.department=c\n",
    "    def getDepartment(self):\n",
    "        return self.department\n",
    "    "
   ]
  },
  {
   "cell_type": "code",
   "execution_count": 41,
   "id": "a33395a2-53a8-4054-abe7-c6dd93d6c8a3",
   "metadata": {},
   "outputs": [],
   "source": [
    "class Student(Person):\n",
    "    def _init_(self):\n",
    "        self.registrationNumber=0\n",
    "        self.studentClass=\"\"\n",
    "        self.fee=0\n",
    "        \n",
    "        \n",
    "    #Get and Set Function of Designation\n",
    "    def setRegistrationNumber(self, a):\n",
    "        self.registrationNumber=a\n",
    "    def getRegistrationNumber(self):\n",
    "        return self.registrationNumber\n",
    "    \n",
    "    #Get and Set Function of Salary\n",
    "    def setClass(self, b):\n",
    "        self.studentClass=b\n",
    "    def getClass(self):\n",
    "        return self.studentClass\n",
    "    \n",
    "    #Get and Set Function of department\n",
    "    def setFee(self, c):\n",
    "        self.fee=c\n",
    "    def getFee(self):\n",
    "        return self.fee\n",
    "    \n",
    "    "
   ]
  },
  {
   "cell_type": "code",
   "execution_count": 43,
   "id": "05f60189-d6c7-492f-8834-f01c8fa24fe1",
   "metadata": {},
   "outputs": [],
   "source": [
    "S = Student() \n",
    "\n",
    "S.setName(\"Asad\")\n",
    "S.setAge(23)\n",
    "S.setCnic(\"12103-7684323-7\")\n",
    "S.setRegistrationNumber(\"32423423432\")\n",
    "S.setClass(\"5th grade\")\n",
    "S.setFee(100000)\n",
    "\n"
   ]
  },
  {
   "cell_type": "code",
   "execution_count": 47,
   "id": "b5345ccd-85d8-4cba-b285-a3f673b3144e",
   "metadata": {},
   "outputs": [
    {
     "name": "stdout",
     "output_type": "stream",
     "text": [
      "Asad 23 12103-7684323-7 32423423432 5th grade 100000\n"
     ]
    }
   ],
   "source": [
    "print(S.getName(),S.getAge(),S.getCnic(),\n",
    "      S.getRegistrationNumber(),S.getClass(), S.getFee())"
   ]
  },
  {
   "cell_type": "code",
   "execution_count": 48,
   "id": "3928a69b-aa42-4919-9a45-a8dc1ab403bf",
   "metadata": {},
   "outputs": [],
   "source": [
    "E = Employee() \n",
    "\n",
    "E.setName(\"Asad\")\n",
    "E.setAge(23)\n",
    "E.setCnic(\"12103-7684323-7\")\n",
    "E.setDesignation(\"Teacher\")\n",
    "E.setSalary(40000)\n",
    "E.setDepartment(\"CSE\")"
   ]
  },
  {
   "cell_type": "code",
   "execution_count": 50,
   "id": "32dce99b-450e-447d-b6ad-05853a2f5063",
   "metadata": {},
   "outputs": [
    {
     "name": "stdout",
     "output_type": "stream",
     "text": [
      "Asad 23 12103-7684323-7\n"
     ]
    }
   ],
   "source": [
    "print(E.getName(),E.getAge(),E.getCnic())"
   ]
  },
  {
   "cell_type": "code",
   "execution_count": null,
   "id": "55afcca0-3482-4945-9ba4-ea709b5ce0e7",
   "metadata": {},
   "outputs": [],
   "source": []
  }
 ],
 "metadata": {
  "kernelspec": {
   "display_name": "Python 3",
   "language": "python",
   "name": "python3"
  },
  "language_info": {
   "codemirror_mode": {
    "name": "ipython",
    "version": 3
   },
   "file_extension": ".py",
   "mimetype": "text/x-python",
   "name": "python",
   "nbconvert_exporter": "python",
   "pygments_lexer": "ipython3",
   "version": "3.8.8"
  }
 },
 "nbformat": 4,
 "nbformat_minor": 5
}
