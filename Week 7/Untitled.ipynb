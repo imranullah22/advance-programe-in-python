{
 "cells": [
  {
   "cell_type": "code",
   "execution_count": 23,
   "id": "fd074ced",
   "metadata": {},
   "outputs": [
    {
     "name": "stdout",
     "output_type": "stream",
     "text": [
      "[3, 5, 7, 9]\n"
     ]
    }
   ],
   "source": [
    "def add (a,b):\n",
    "    return a+b\n",
    "l1=(1,2,3,4)\n",
    "l2=(2,3,4,5)\n",
    "print(list(map(add,(l1),(l2))))\n",
    "\n",
    "    \n",
    "    "
   ]
  },
  {
   "cell_type": "code",
   "execution_count": 24,
   "id": "aa1d85b6",
   "metadata": {},
   "outputs": [
    {
     "name": "stdout",
     "output_type": "stream",
     "text": [
      "[2, 6, 12, 20]\n"
     ]
    }
   ],
   "source": [
    "def add (a,b):\n",
    "    return a*b\n",
    "l1=(1,2,3,4)\n",
    "l2=(2,3,4,5)\n",
    "print(list(map(add,(l1),(l2))))\n",
    "\n",
    "    \n",
    "    "
   ]
  },
  {
   "cell_type": "code",
   "execution_count": 25,
   "id": "e10f2c0e",
   "metadata": {},
   "outputs": [
    {
     "name": "stdout",
     "output_type": "stream",
     "text": [
      "[0.5, 0.6666666666666666, 0.75, 0.8]\n"
     ]
    }
   ],
   "source": [
    "def add (a,b):\n",
    "    return a/b\n",
    "l1=(1,2,3,4)\n",
    "l2=(2,3,4,5)\n",
    "print(list(map(add,(l1),(l2))))\n",
    "\n",
    "    \n",
    "    "
   ]
  },
  {
   "cell_type": "code",
   "execution_count": 26,
   "id": "15172e48",
   "metadata": {},
   "outputs": [
    {
     "name": "stdout",
     "output_type": "stream",
     "text": [
      "[1, 8, 81, 1024]\n"
     ]
    }
   ],
   "source": [
    "def add (a,b):\n",
    "    return a**b\n",
    "l1=(1,2,3,4)\n",
    "l2=(2,3,4,5)\n",
    "print(list(map(add,(l1),(l2))))\n",
    "\n",
    "    \n",
    "    "
   ]
  },
  {
   "cell_type": "code",
   "execution_count": 27,
   "id": "b643be7e",
   "metadata": {},
   "outputs": [
    {
     "name": "stdout",
     "output_type": "stream",
     "text": [
      "[1, 8, 81, 1024]\n"
     ]
    }
   ],
   "source": [
    "def to_farm(c):\n",
    "    return 9/5*c+32\n",
    "l1=(1,2,3,4)\n",
    "l2=(2,3,4,5)\n",
    "print(list(map(add,(l1),(l2))))"
   ]
  },
  {
   "cell_type": "code",
   "execution_count": 29,
   "id": "d26371eb",
   "metadata": {},
   "outputs": [
    {
     "name": "stdout",
     "output_type": "stream",
     "text": [
      "[1, 8, 81, 1024, 15625]\n"
     ]
    }
   ],
   "source": [
    "l1=(1,2,3,4,5)\n",
    "\n",
    "def pow(x):\n",
    "    return x**2,x**3,x**4\n",
    "\n",
    "\n",
    "l2=(2,3,4,5,6)\n",
    "print(list(map(add,(l1),(l2))))"
   ]
  },
  {
   "cell_type": "code",
   "execution_count": 36,
   "id": "e1c193c2",
   "metadata": {},
   "outputs": [
    {
     "data": {
      "text/plain": [
       "[['a', 'p', 'p', 'p', 'l', 'e'],\n",
       " ['y', 'e', 'l', 'l', 'o', 'w'],\n",
       " ['g', 'r', 'e', 'e', 'n'],\n",
       " ['b', 'l', 'u', 'e'],\n",
       " ['r', 'e', 'd']]"
      ]
     },
     "execution_count": 36,
     "metadata": {},
     "output_type": "execute_result"
    }
   ],
   "source": [
    "s=('appple','yellow','green','blue','red')\n",
    "list(map(list,s))"
   ]
  },
  {
   "cell_type": "code",
   "execution_count": null,
   "id": "266baae3",
   "metadata": {},
   "outputs": [],
   "source": [
    "def to_celc(f):\n",
    "    "
   ]
  }
 ],
 "metadata": {
  "kernelspec": {
   "display_name": "Python 3",
   "language": "python",
   "name": "python3"
  },
  "language_info": {
   "codemirror_mode": {
    "name": "ipython",
    "version": 3
   },
   "file_extension": ".py",
   "mimetype": "text/x-python",
   "name": "python",
   "nbconvert_exporter": "python",
   "pygments_lexer": "ipython3",
   "version": "3.8.8"
  }
 },
 "nbformat": 4,
 "nbformat_minor": 5
}
