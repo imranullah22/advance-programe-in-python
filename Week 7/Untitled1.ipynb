{
 "cells": [
  {
   "cell_type": "code",
   "execution_count": 57,
   "id": "c3894bcc",
   "metadata": {},
   "outputs": [],
   "source": [
    "import numpy as np\n",
    "import pandas as pd\n",
    "import matplotlib.pyplot as plt\n"
   ]
  },
  {
   "cell_type": "code",
   "execution_count": 58,
   "id": "906cf476",
   "metadata": {},
   "outputs": [
    {
     "name": "stdout",
     "output_type": "stream",
     "text": [
      "  category items   size  price\n",
      "1        A   123  Small    244\n",
      "2        B    12  medum    544\n",
      "3        c    13  Large    666\n"
     ]
    }
   ],
   "source": [
    "data = {\n",
    "  \"category\": [\"A\",\"B\",\"c\" ],\n",
    "  \"items\": [\"123\", \"12\",\"13\"],\n",
    "  \"size\":[\"Small\",\"medum\",\"Large\"],\n",
    "  \"price\" :[244,544,666],\n",
    "    \n",
    "    \n",
    "  \n",
    "}\n",
    "\n",
    "#load data into a DataFrame object:\n",
    "df = pd.DataFrame(data, index = [\"1\", \"2\", \"3\"])\n",
    "\n",
    "print(df) "
   ]
  },
  {
   "cell_type": "code",
   "execution_count": 62,
   "id": "bb94f20d",
   "metadata": {},
   "outputs": [],
   "source": [
    "t=pd.pivot_table(df,values='price',index=['category','items'],columns=['size'])"
   ]
  },
  {
   "cell_type": "code",
   "execution_count": 63,
   "id": "356e96b4",
   "metadata": {},
   "outputs": [
    {
     "name": "stdout",
     "output_type": "stream",
     "text": [
      "size            Large  Small  medum\n",
      "category items                     \n",
      "A        123      NaN  244.0    NaN\n",
      "B        12       NaN    NaN  544.0\n",
      "c        13     666.0    NaN    NaN\n"
     ]
    }
   ],
   "source": [
    "print(t)"
   ]
  },
  {
   "cell_type": "code",
   "execution_count": 64,
   "id": "ac17b689",
   "metadata": {},
   "outputs": [],
   "source": [
    "t=pd.pivot_table(df,values='price',index=['category','items'],columns=['size'],aggfunc=np.sum)"
   ]
  },
  {
   "cell_type": "code",
   "execution_count": 65,
   "id": "d06389c3",
   "metadata": {},
   "outputs": [
    {
     "name": "stdout",
     "output_type": "stream",
     "text": [
      "size            Large  Small  medum\n",
      "category items                     \n",
      "A        123      NaN  244.0    NaN\n",
      "B        12       NaN    NaN  544.0\n",
      "c        13     666.0    NaN    NaN\n"
     ]
    }
   ],
   "source": [
    "print(t)"
   ]
  },
  {
   "cell_type": "code",
   "execution_count": 66,
   "id": "3b7eaf32",
   "metadata": {},
   "outputs": [],
   "source": [
    "t=pd.pivot_table(df,values='price',index=['category','items'],columns=['size'],aggfunc=np.var)\n"
   ]
  },
  {
   "cell_type": "code",
   "execution_count": 67,
   "id": "3e767f84",
   "metadata": {},
   "outputs": [
    {
     "name": "stdout",
     "output_type": "stream",
     "text": [
      "Empty DataFrame\n",
      "Columns: []\n",
      "Index: []\n"
     ]
    }
   ],
   "source": [
    "print(t)"
   ]
  },
  {
   "cell_type": "code",
   "execution_count": 68,
   "id": "b6574593",
   "metadata": {},
   "outputs": [
    {
     "name": "stdout",
     "output_type": "stream",
     "text": [
      "Empty DataFrame\n",
      "Columns: []\n",
      "Index: []\n"
     ]
    }
   ],
   "source": [
    "t=pd.pivot_table(df,values='price',index=['category','items'],columns=['size'],aggfunc=np.std)\n",
    "print(t)"
   ]
  },
  {
   "cell_type": "code",
   "execution_count": 69,
   "id": "2a886155",
   "metadata": {},
   "outputs": [],
   "source": [
    "t=pd.pivot_table(df,values='price',index=['category','items'],columns=['size'],aggfunc=np.min)"
   ]
  },
  {
   "cell_type": "code",
   "execution_count": 70,
   "id": "f92cdc49",
   "metadata": {},
   "outputs": [
    {
     "name": "stdout",
     "output_type": "stream",
     "text": [
      "size            Large  Small  medum\n",
      "category items                     \n",
      "A        123      NaN  244.0    NaN\n",
      "B        12       NaN    NaN  544.0\n",
      "c        13     666.0    NaN    NaN\n"
     ]
    }
   ],
   "source": [
    "print(t)"
   ]
  },
  {
   "cell_type": "code",
   "execution_count": 71,
   "id": "9d08f68c",
   "metadata": {},
   "outputs": [],
   "source": [
    "t=pd.pivot_table(df,values='price',index=['category','items'])"
   ]
  },
  {
   "cell_type": "code",
   "execution_count": 56,
   "id": "2c3fbe10",
   "metadata": {},
   "outputs": [
    {
     "name": "stdout",
     "output_type": "stream",
     "text": [
      "                price\n",
      "category items       \n",
      "A        123      244\n",
      "B        12       544\n",
      "c        13       666\n"
     ]
    }
   ],
   "source": [
    "print(t)"
   ]
  },
  {
   "cell_type": "code",
   "execution_count": null,
   "id": "3c72bf76",
   "metadata": {},
   "outputs": [],
   "source": []
  },
  {
   "cell_type": "code",
   "execution_count": null,
   "id": "6d0226b8",
   "metadata": {},
   "outputs": [],
   "source": []
  }
 ],
 "metadata": {
  "kernelspec": {
   "display_name": "Python 3",
   "language": "python",
   "name": "python3"
  },
  "language_info": {
   "codemirror_mode": {
    "name": "ipython",
    "version": 3
   },
   "file_extension": ".py",
   "mimetype": "text/x-python",
   "name": "python",
   "nbconvert_exporter": "python",
   "pygments_lexer": "ipython3",
   "version": "3.8.8"
  }
 },
 "nbformat": 4,
 "nbformat_minor": 5
}
