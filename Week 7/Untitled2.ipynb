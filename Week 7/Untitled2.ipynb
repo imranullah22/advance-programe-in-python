{
 "cells": [
  {
   "cell_type": "code",
   "execution_count": 13,
   "id": "42efd8a5",
   "metadata": {},
   "outputs": [],
   "source": [
    "import numpy as np\n",
    "import pandas as pd\n",
    "import matplotlib.pyplot as plt\n"
   ]
  },
  {
   "cell_type": "code",
   "execution_count": 17,
   "id": "e9f5063a",
   "metadata": {},
   "outputs": [
    {
     "name": "stdout",
     "output_type": "stream",
     "text": [
      "       area     doman  selary\n",
      "1   medical   nursing    3000\n",
      "2  engineer  computer    5000\n"
     ]
    }
   ],
   "source": [
    "data = {\n",
    "  \"area\": [\"medical\",\"engineer\" ],\n",
    "  \"doman\": [\"nursing\", \"computer\"],\n",
    "  \"selary\":[3000,5000],\n",
    "  \n",
    "    \n",
    "    \n",
    "  \n",
    "}\n",
    "\n",
    "#load data into a DataFrame object:\n",
    "df = pd.DataFrame(data, index = [\"1\", \"2\"])\n",
    "\n",
    "print(df) "
   ]
  },
  {
   "cell_type": "code",
   "execution_count": 18,
   "id": "b4bfde22",
   "metadata": {},
   "outputs": [],
   "source": [
    "t=pd.pivot_table(df,values=\"selary\",index=[\"area\",\"doman\"])"
   ]
  },
  {
   "cell_type": "code",
   "execution_count": 19,
   "id": "bf92387c",
   "metadata": {},
   "outputs": [
    {
     "name": "stdout",
     "output_type": "stream",
     "text": [
      "                   selary\n",
      "area     doman           \n",
      "engineer computer    5000\n",
      "medical  nursing     3000\n"
     ]
    }
   ],
   "source": [
    "print(t)"
   ]
  },
  {
   "cell_type": "code",
   "execution_count": 24,
   "id": "1d1f7505",
   "metadata": {},
   "outputs": [],
   "source": [
    "t=pd.pivot_table(df,values=\"selary\",index=[\"area\",\"doman\"],aggfunc=np.mean)"
   ]
  },
  {
   "cell_type": "code",
   "execution_count": 26,
   "id": "97eb2c80",
   "metadata": {},
   "outputs": [
    {
     "name": "stdout",
     "output_type": "stream",
     "text": [
      "                   selary\n",
      "area     doman           \n",
      "engineer computer    5000\n",
      "medical  nursing     3000\n"
     ]
    }
   ],
   "source": [
    "print(t)"
   ]
  },
  {
   "cell_type": "code",
   "execution_count": 32,
   "id": "84a7781b",
   "metadata": {},
   "outputs": [
    {
     "name": "stdout",
     "output_type": "stream",
     "text": [
      "   Degree            Subject  No_students\n",
      "0  master            medical           25\n",
      "1     phd  computer secience           30\n"
     ]
    }
   ],
   "source": [
    "data = {\n",
    "  \"Degree\": [\"master\",\"phd\" ],\n",
    "  \"Subject\": [\"medical\", \"computer secience\"],\n",
    "  \"No_students\":[25,30],\n",
    "  \n",
    "    \n",
    "    \n",
    "  \n",
    "}\n",
    "\n",
    "#load data into a DataFrame object:\n",
    "df = pd.DataFrame(data)\n",
    "\n",
    "print(df) "
   ]
  },
  {
   "cell_type": "code",
   "execution_count": 33,
   "id": "98410d75",
   "metadata": {},
   "outputs": [],
   "source": [
    "s=pd.pivot_table(df,values=\"No_students\",index=[\"Degree\",\"Subject\"],aggfunc=np.mean)"
   ]
  },
  {
   "cell_type": "code",
   "execution_count": 34,
   "id": "79ab3b51",
   "metadata": {},
   "outputs": [
    {
     "name": "stdout",
     "output_type": "stream",
     "text": [
      "                          No_students\n",
      "Degree Subject                       \n",
      "master medical                     25\n",
      "phd    computer secience           30\n"
     ]
    }
   ],
   "source": [
    "print(s)"
   ]
  },
  {
   "cell_type": "code",
   "execution_count": null,
   "id": "5e8f84b7",
   "metadata": {},
   "outputs": [],
   "source": []
  }
 ],
 "metadata": {
  "kernelspec": {
   "display_name": "Python 3",
   "language": "python",
   "name": "python3"
  },
  "language_info": {
   "codemirror_mode": {
    "name": "ipython",
    "version": 3
   },
   "file_extension": ".py",
   "mimetype": "text/x-python",
   "name": "python",
   "nbconvert_exporter": "python",
   "pygments_lexer": "ipython3",
   "version": "3.8.8"
  }
 },
 "nbformat": 4,
 "nbformat_minor": 5
}
