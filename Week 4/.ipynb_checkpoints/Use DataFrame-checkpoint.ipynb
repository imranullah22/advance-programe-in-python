{
 "cells": [
  {
   "cell_type": "code",
   "execution_count": 1,
   "metadata": {},
   "outputs": [],
   "source": [
    "import pandas as pd"
   ]
  },
  {
   "cell_type": "code",
   "execution_count": 2,
   "metadata": {},
   "outputs": [
    {
     "name": "stdout",
     "output_type": "stream",
     "text": [
      "   S.no    Name  Mobile Gender Section\n",
      "0     0    Eman     343      F       A\n",
      "1     1   Ramna     453      F       C\n",
      "2     2  Zainab     234      F       A\n",
      "3     3   Maria     123      F       C\n",
      "4     4   Laiba     334      F       A\n"
     ]
    }
   ],
   "source": [
    "import pandas as pd\n",
    "data={\n",
    "    \"S.no\":[0,1,2,3,4],\n",
    "    \"Name\":[\"Eman\",\"Ramna\",\"Zainab\",\"Maria\",\"Laiba\"],\n",
    "    \"Mobile\":[343,453,234,123,334],\n",
    "    \"Gender\":[\"F\",\"F\",\"F\",\"F\",\"F\"],\n",
    "    \"Section\":[\"A\",\"C\",\"A\",\"C\",\"A\"]\n",
    "}\n",
    "#Load data into a Data Frame object:\n",
    "df=pd.DataFrame(data)\n",
    "print(df)"
   ]
  },
  {
   "cell_type": "code",
   "execution_count": 3,
   "metadata": {},
   "outputs": [
    {
     "name": "stdout",
     "output_type": "stream",
     "text": [
      "   S.no  Name  Mobile Gender Section\n",
      "0     0  Eman     343      F       A\n"
     ]
    }
   ],
   "source": [
    "import pandas as pd\n",
    "data={\n",
    "    \"S.no\":[0,1,2,3,4],\n",
    "    \"Name\":[\"Eman\",\"Ramna\",\"Zainab\",\"Maria\",\"Laiba\"],\n",
    "    \"Mobile\":[343,453,234,123,334],\n",
    "    \"Gender\":[\"F\",\"F\",\"F\",\"F\",\"F\"],\n",
    "    \"Section\":[\"A\",\"C\",\"A\",\"C\",\"A\"]\n",
    "}\n",
    "#Load data into a Data Frame object:\n",
    "df=pd.DataFrame(data)\n",
    "print(df.loc[[0]])"
   ]
  },
  {
   "cell_type": "code",
   "execution_count": 4,
   "metadata": {},
   "outputs": [
    {
     "name": "stdout",
     "output_type": "stream",
     "text": [
      "   S.no   Name  Mobile Gender Section\n",
      "0     0   Eman     343      F       A\n",
      "1     1  Ramna     453      F       C\n"
     ]
    }
   ],
   "source": [
    "import pandas as pd\n",
    "data={\n",
    "    \"S.no\":[0,1,2,3,4],\n",
    "    \"Name\":[\"Eman\",\"Ramna\",\"Zainab\",\"Maria\",\"Laiba\"],\n",
    "    \"Mobile\":[343,453,234,123,334],\n",
    "    \"Gender\":[\"F\",\"F\",\"F\",\"F\",\"F\"],\n",
    "    \"Section\":[\"A\",\"C\",\"A\",\"C\",\"A\"]\n",
    "}\n",
    "#Load data into a Data Frame object:\n",
    "df=pd.DataFrame(data)\n",
    "print(df.loc[[0,1]])"
   ]
  },
  {
   "cell_type": "code",
   "execution_count": null,
   "metadata": {},
   "outputs": [],
   "source": []
  }
 ],
 "metadata": {
  "kernelspec": {
   "display_name": "Python 3",
   "language": "python",
   "name": "python3"
  },
  "language_info": {
   "codemirror_mode": {
    "name": "ipython",
    "version": 3
   },
   "file_extension": ".py",
   "mimetype": "text/x-python",
   "name": "python",
   "nbconvert_exporter": "python",
   "pygments_lexer": "ipython3",
   "version": "3.7.4"
  }
 },
 "nbformat": 4,
 "nbformat_minor": 2
}
