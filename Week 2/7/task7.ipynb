{
 "cells": [
  {
   "cell_type": "code",
   "execution_count": 5,
   "id": "28f63e76",
   "metadata": {},
   "outputs": [
    {
     "name": "stdout",
     "output_type": "stream",
     "text": [
      "[3, 5, 7, 9]\n"
     ]
    }
   ],
   "source": [
    "def add (a,b):\n",
    "    return a+b\n",
    "l1=(1,2,3,4)\n",
    "l2=(2,3,4,5)\n",
    "print(list(map(add,(l1),(l2))))\n",
    "\n",
    "    \n",
    "    \n"
   ]
  },
  {
   "cell_type": "code",
   "execution_count": 8,
   "id": "e29b5585",
   "metadata": {},
   "outputs": [],
   "source": [
    "f=lambda m,a:m+a\n"
   ]
  },
  {
   "cell_type": "code",
   "execution_count": 9,
   "id": "03d667ef",
   "metadata": {},
   "outputs": [
    {
     "data": {
      "text/plain": [
       "7"
      ]
     },
     "execution_count": 9,
     "metadata": {},
     "output_type": "execute_result"
    }
   ],
   "source": [
    "f(4,3)"
   ]
  },
  {
   "cell_type": "code",
   "execution_count": null,
   "id": "737da42c",
   "metadata": {},
   "outputs": [],
   "source": []
  }
 ],
 "metadata": {
  "kernelspec": {
   "display_name": "Python 3",
   "language": "python",
   "name": "python3"
  },
  "language_info": {
   "codemirror_mode": {
    "name": "ipython",
    "version": 3
   },
   "file_extension": ".py",
   "mimetype": "text/x-python",
   "name": "python",
   "nbconvert_exporter": "python",
   "pygments_lexer": "ipython3",
   "version": "3.8.8"
  }
 },
 "nbformat": 4,
 "nbformat_minor": 5
}
