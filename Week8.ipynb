{
 "cells": [
  {
   "cell_type": "code",
   "execution_count": 10,
   "id": "06591bfa-ddf9-4701-b8ce-fc5e77d5855e",
   "metadata": {},
   "outputs": [],
   "source": [
    "import numpy as np"
   ]
  },
  {
   "cell_type": "code",
   "execution_count": 15,
   "id": "ab423a82-fb01-4314-9821-2fea8a888aee",
   "metadata": {},
   "outputs": [],
   "source": [
    "a = np.array([1,2,3])\n",
    "b = np.array([4,5,6])"
   ]
  },
  {
   "cell_type": "code",
   "execution_count": 18,
   "id": "4e2c45fa-ddee-41f9-868e-130878246c0e",
   "metadata": {},
   "outputs": [],
   "source": [
    "c = np.hstack((a, b))\n",
    "d = np.vstack((a, b))"
   ]
  },
  {
   "cell_type": "code",
   "execution_count": 20,
   "id": "479b8bdf-642d-422c-ba30-020b386db205",
   "metadata": {},
   "outputs": [
    {
     "name": "stdout",
     "output_type": "stream",
     "text": [
      "new array hstack  [1 2 3 4 5 6]\n",
      "new array vstack  [[1 2 3]\n",
      " [4 5 6]]\n"
     ]
    }
   ],
   "source": [
    "print(\"new array hstack \", c)\n",
    "print(\"new array vstack \", d)"
   ]
  },
  {
   "cell_type": "code",
   "execution_count": null,
   "id": "f94d65fe-2ba0-4949-85c5-96fc9f10bffb",
   "metadata": {},
   "outputs": [],
   "source": []
  }
 ],
 "metadata": {
  "kernelspec": {
   "display_name": "Python 3",
   "language": "python",
   "name": "python3"
  },
  "language_info": {
   "codemirror_mode": {
    "name": "ipython",
    "version": 3
   },
   "file_extension": ".py",
   "mimetype": "text/x-python",
   "name": "python",
   "nbconvert_exporter": "python",
   "pygments_lexer": "ipython3",
   "version": "3.8.8"
  }
 },
 "nbformat": 4,
 "nbformat_minor": 5
}
